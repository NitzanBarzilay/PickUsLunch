{
 "cells": [
  {
   "cell_type": "markdown",
   "id": "434561fb",
   "metadata": {
    "pycharm": {
     "name": "#%% md\n"
    }
   },
   "source": [
    "## Params"
   ]
  },
  {
   "cell_type": "code",
   "execution_count": 1,
   "id": "fc8d84fc",
   "metadata": {
    "pycharm": {
     "name": "#%%\n"
    }
   },
   "outputs": [],
   "source": [
    "user_input = dict(num_people    = 3,\n",
    "                  vegi          = [False, False, True],\n",
    "                  kosher        = False,\n",
    "                  total_price   = 150,   # nis\n",
    "                  preferences   = ['italian', 'burger'], # list of tags preferences,\n",
    "                                                         # can include duplicates,\n",
    "                                                         # must be less than number of people eating\n",
    "                  max_wait_time = 45,   # - minutes\n",
    "                  hunger_level  = 'starving' # from ['not really hungry', 'hungry', 'starving']\n",
    "                  address = 'King George 62, Tel aviv' # in a format of our choice\n",
    "                 )"
   ]
  },
  {
   "cell_type": "code",
   "execution_count": null,
   "id": "2ac0ef6a",
   "metadata": {
    "pycharm": {
     "name": "#%%\n"
    }
   },
   "outputs": [],
   "source": [
    "def get_search_params(**user_input):\n",
    "    # format address to coordinates,\n",
    "    # format hunger level to number of dishes and wait-time wight WTime"
   ]
  },
  {
   "cell_type": "code",
   "execution_count": null,
   "id": "6b2c6150",
   "metadata": {
    "pycharm": {
     "name": "#%%\n"
    }
   },
   "outputs": [],
   "source": [
    "# state = [list of params dicts, one for each meal on order], [resturants_info (?)]"
   ]
  },
  {
   "cell_type": "markdown",
   "id": "85cd8a5c",
   "metadata": {
    "pycharm": {
     "name": "#%% md\n"
    }
   },
   "source": [
    "## Loss"
   ]
  },
  {
   "cell_type": "code",
   "execution_count": null,
   "id": "9c921688",
   "metadata": {
    "pycharm": {
     "name": "#%%\n"
    }
   },
   "outputs": [],
   "source": [
    "def loss_func(**params, **state):\n",
    "    # hard constraints:\n",
    "    vegi_constraint  = sum(params['vegi']) == sum([meal['vegi'] for meal in state])\n",
    "    total_price = sum([meal['price'] for meal in state])\n",
    "    price_constraint = params['price'] <= total_peice\n",
    "    koser_constraint = all([meal['koser'] for meal in state])\n",
    "    max_wait_time = max([meal['wait_time'] for meal in state])\n",
    "    wait_time_constraint = max_wait_time <= params['max_wait_time']\n",
    "    distance_constraint ...\n",
    "    \n",
    "    hard_constraints = all([vegi_constraint, price_constraint, koser_constraint,\n",
    "                            wait_time_constraint, distance_constraint])\n",
    "    \n",
    "    # soft constraints:\n",
    "    lower_is_better = (W_PRICE * total_price) + (W_TIME * max_wait_time) + (W_DIST * distance)\n",
    "    larger_is_better = ...\n",
    "    soft_constraints = (1 / lower_is_better) + larger_is_better # make sure maximal output is less than K\n",
    "    \n",
    "    return 1 / (int(hard_constraints) * K + soft_constraints)\n"
   ]
  },
  {
   "cell_type": "markdown",
   "source": [
    "**** hard\n",
    "kosher\n",
    "vegan\n",
    "open\n",
    "minimum hazmzna\n",
    "no alcohol\n",
    "\n",
    "**** soft\n",
    "spicy\n",
    "price range\n",
    "category\n",
    "rating\n",
    "delivery time"
   ],
   "metadata": {
    "collapsed": false,
    "pycharm": {
     "name": "#%% md\n"
    }
   }
  }
 ],
 "metadata": {
  "kernelspec": {
   "display_name": "Python 3 (ipykernel)",
   "language": "python",
   "name": "python3"
  },
  "language_info": {
   "codemirror_mode": {
    "name": "ipython",
    "version": 3
   },
   "file_extension": ".py",
   "mimetype": "text/x-python",
   "name": "python",
   "nbconvert_exporter": "python",
   "pygments_lexer": "ipython3",
   "version": "3.9.13"
  },
  "varInspector": {
   "cols": {
    "lenName": 16,
    "lenType": 16,
    "lenVar": 40
   },
   "kernels_config": {
    "python": {
     "delete_cmd_postfix": "",
     "delete_cmd_prefix": "del ",
     "library": "var_list.py",
     "varRefreshCmd": "print(var_dic_list())"
    },
    "r": {
     "delete_cmd_postfix": ") ",
     "delete_cmd_prefix": "rm(",
     "library": "var_list.r",
     "varRefreshCmd": "cat(var_dic_list()) "
    }
   },
   "types_to_exclude": [
    "module",
    "function",
    "builtin_function_or_method",
    "instance",
    "_Feature"
   ],
   "window_display": false
  }
 },
 "nbformat": 4,
 "nbformat_minor": 5
}