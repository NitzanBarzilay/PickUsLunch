{
 "cells": [
  {
   "cell_type": "markdown",
   "id": "0cc0b675",
   "metadata": {},
   "source": [
    "# POC for Genetic Algorithm WOLT"
   ]
  },
  {
   "cell_type": "markdown",
   "id": "d65f96d3",
   "metadata": {},
   "source": [
    "### Imports"
   ]
  },
  {
   "cell_type": "code",
   "execution_count": 1,
   "id": "895b7217",
   "metadata": {},
   "outputs": [],
   "source": [
    "import pygad\n",
    "import numpy as np\n",
    "import pandas as pd"
   ]
  },
  {
   "cell_type": "markdown",
   "id": "3c8d7f3a",
   "metadata": {},
   "source": [
    "### helper functions:"
   ]
  },
  {
   "cell_type": "code",
   "execution_count": 2,
   "id": "8dfb4dc5",
   "metadata": {},
   "outputs": [],
   "source": [
    "FOOD_TYPES = ['burger', 'pizza', 'salad', 'sushi', 'burrito', 'noodles', 'sandwich', 'curry']\n",
    "DRINK_TYPE = ['water', 'coca-cola', 'pepsi', 'beer']\n",
    "SIDES_TYPE = ['fries', 'rice', 'beens', 'bread']\n",
    "\n",
    "def get_random_food_name():\n",
    "    return f'{np.random.choice(FOOD_TYPES)} with {np.random.choice(SIDES_TYPE)} and ' \\\n",
    "           f'{np.random.choice(DRINK_TYPE)}'"
   ]
  },
  {
   "cell_type": "code",
   "execution_count": 3,
   "id": "f473d92e",
   "metadata": {},
   "outputs": [],
   "source": [
    "def rand_bool():\n",
    "    return bool(np.random.randint(0, 2))\n",
    "\n",
    "def get_random_dish(i):\n",
    "    return dict(name     = get_random_food_name(),\n",
    "                price    = np.random.randint(low=20, high=120),\n",
    "                vegan    = rand_bool(),\n",
    "                gluten   = rand_bool(),\n",
    "                spicy    = rand_bool(),\n",
    "                pregnent = rand_bool())"
   ]
  },
  {
   "cell_type": "code",
   "execution_count": 4,
   "id": "96c37b80",
   "metadata": {},
   "outputs": [],
   "source": [
    "def print_dish(dish):\n",
    "    print('-' * 50)\n",
    "    print(f'{dish[\"name\"]} - {dish[\"price\"]} ₪')\n",
    "    print(f'vegan: {\"✅\" if dish[\"vegan\"] else \"❌\"}', end=' ')\n",
    "    print(f'gluten: {\"✅\" if dish[\"gluten\"] else \"❌\"}', end=' ')\n",
    "    print(f'spicy: {\"✅\" if dish[\"spicy\"] else \"❌\"}', end=' ')\n",
    "    print(f'pregnent: {\"✅\" if dish[\"pregnent\"] else \"❌\"}')\n",
    "    print('-' * 50)\n"
   ]
  },
  {
   "cell_type": "code",
   "execution_count": 5,
   "id": "a57f5164",
   "metadata": {},
   "outputs": [],
   "source": [
    "def get_user_input(people=4, price=250, vegan=None, gluten=None, spicy=None, pregnent=None):\n",
    "    return dict(people   = people,\n",
    "                price    = 80 * people if not price else price,\n",
    "                vegan    = np.zeros(people).astype(bool) if not vegan    else np.array(vegan   ).astype(bool),\n",
    "                gluten   = np.zeros(people).astype(bool) if not gluten   else np.array(gluten  ).astype(bool),\n",
    "                spicy    = np.zeros(people).astype(bool) if not spicy    else np.array(spicy   ).astype(bool),\n",
    "                pregnent = np.zeros(people).astype(bool) if not pregnent else np.array(pregnent).astype(bool))"
   ]
  },
  {
   "cell_type": "markdown",
   "id": "1b594984",
   "metadata": {},
   "source": [
    "### Loss (fitness) function:"
   ]
  },
  {
   "cell_type": "code",
   "execution_count": 6,
   "id": "482c0340",
   "metadata": {},
   "outputs": [],
   "source": [
    "def fitness_function(solution, solution_idx):\n",
    "    solution = [database[i] for i in solution]\n",
    "#     [print(dish) for dish in solution]\n",
    "    \n",
    "    total_price = sum([dish['price'] for dish in solution])\n",
    "    price_const =  total_price < user_input['price']\n",
    "    \n",
    "    vegan_const    = [dish['vegan'] == inp for (dish, inp) in zip(solution, user_input['vegan'])]    \n",
    "    gluten_const   = [dish['gluten'] == inp for (dish, inp) in zip(solution, user_input['gluten'])]    \n",
    "    spicy_const    = [dish['spicy'] == inp for (dish, inp) in zip(solution, user_input['spicy'])]    \n",
    "    pregnent_const = [dish['pregnent'] == inp for (dish, inp) in zip(solution, user_input['pregnent'])]  \n",
    "    \n",
    "    hard_const = all([price_const,\n",
    "                      all(vegan_const),\n",
    "                      all(gluten_const),\n",
    "                      all(spicy_const),\n",
    "                      all(pregnent_const)])\n",
    "    \n",
    "    soft_price = (user_input['price'] - total_price) / user_input['price']\n",
    "    soft_const = np.mean([soft_price,\n",
    "                          sum(vegan_const)    / user_input['people'], \n",
    "                          sum(gluten_const)   / user_input['people'],\n",
    "                          sum(spicy_const)    / user_input['people'],\n",
    "                          sum(pregnent_const) / user_input['people'],\n",
    "                         ])\n",
    "    fitness = np.mean([int(hard_const), soft_const])\n",
    "    res.append(fitness)\n",
    "\n",
    "    return fitness"
   ]
  },
  {
   "cell_type": "markdown",
   "id": "d88b45f0",
   "metadata": {},
   "source": [
    "### Initialize"
   ]
  },
  {
   "cell_type": "code",
   "execution_count": 7,
   "id": "400947b1",
   "metadata": {},
   "outputs": [],
   "source": [
    "database = [get_random_dish(i) for i in range(100)]\n",
    "res = []"
   ]
  },
  {
   "cell_type": "markdown",
   "id": "e9be914d",
   "metadata": {},
   "source": [
    "### User input:"
   ]
  },
  {
   "cell_type": "code",
   "execution_count": 8,
   "id": "1543b163",
   "metadata": {},
   "outputs": [
    {
     "data": {
      "text/plain": [
       "{'people': 4,\n",
       " 'price': 250,\n",
       " 'vegan': array([False, False,  True,  True]),\n",
       " 'gluten': array([False,  True, False, False]),\n",
       " 'spicy': array([False, False, False, False]),\n",
       " 'pregnent': array([False, False, False, False])}"
      ]
     },
     "execution_count": 8,
     "metadata": {},
     "output_type": "execute_result"
    }
   ],
   "source": [
    "user_input = get_user_input(people=4, price=250, vegan=[0, 0, 1, 1], gluten=[0, 1, 0, 0])\n",
    "user_input"
   ]
  },
  {
   "cell_type": "markdown",
   "id": "17c53b78",
   "metadata": {},
   "source": [
    "# Algorithm run:"
   ]
  },
  {
   "cell_type": "code",
   "execution_count": 9,
   "id": "e4b14bdd",
   "metadata": {
    "scrolled": false
   },
   "outputs": [
    {
     "name": "stdout",
     "output_type": "stream",
     "text": [
      "----------------- Best solution ------------------\n",
      "\n",
      "Fitness:          0.9464\n",
      "Hard constraints: 🏆\n",
      "Total price:      134 ₪ (limit was 250 ₪)\n",
      "\n",
      "--------------------------------------------------\n",
      "pizza with bread and pepsi - 30 ₪\n",
      "vegan: ❌ gluten: ❌ spicy: ❌ pregnent: ❌\n",
      "--------------------------------------------------\n",
      "--------------------------------------------------\n",
      "sandwich with beens and pepsi - 34 ₪\n",
      "vegan: ❌ gluten: ✅ spicy: ❌ pregnent: ❌\n",
      "--------------------------------------------------\n",
      "--------------------------------------------------\n",
      "sandwich with beens and water - 35 ₪\n",
      "vegan: ✅ gluten: ❌ spicy: ❌ pregnent: ❌\n",
      "--------------------------------------------------\n",
      "--------------------------------------------------\n",
      "sandwich with beens and water - 35 ₪\n",
      "vegan: ✅ gluten: ❌ spicy: ❌ pregnent: ❌\n",
      "--------------------------------------------------\n",
      "Evolution Plot:\n"
     ]
    },
    {
     "data": {
      "text/plain": [
       "<AxesSubplot:>"
      ]
     },
     "execution_count": 9,
     "metadata": {},
     "output_type": "execute_result"
    },
    {
     "data": {
      "image/png": "[encoded data removed]",
      "text/plain": [
       "<Figure size 640x480 with 1 Axes>"
      ]
     },
     "metadata": {},
     "output_type": "display_data"
    }
   ],
   "source": [
    "res = []\n",
    "\n",
    "# choose run params:\n",
    "ga_instance = pygad.GA(num_generations         = 1000,\n",
    "                       num_parents_mating      = 20,\n",
    "                       sol_per_pop             = 30,\n",
    "                       num_genes               = user_input['people'],\n",
    "\n",
    "#                        init_range_low          = 0,\n",
    "#                        init_range_high         = len(database),\n",
    "                       \n",
    "                       random_mutation_min_val = 0,\n",
    "                       random_mutation_max_val = len(database),\n",
    "                       \n",
    "                       mutation_by_replacement = True,\n",
    "                       mutation_num_genes      = 1,\n",
    "                       mutation_probability    = 0.05,\n",
    "                       \n",
    "                       gene_type               = int,\n",
    "                       fitness_func            = fitness_function,\n",
    "                      )\n",
    "\n",
    "# run:\n",
    "ga_instance.run()\n",
    "\n",
    "# print solution:\n",
    "solution, fitness, i = ga_instance.best_solution()\n",
    "solution = [database[i] for i in solution]\n",
    "\n",
    "print(f'----------------- Best solution ------------------\\n')\n",
    "print(f'Fitness:          {fitness}')\n",
    "print(f'Hard constraints: {\"🏆\" if fitness > 0.5 else \"🛑\"}')\n",
    "print(f'Total price:      {sum([dish[\"price\"] for dish in solution])} ₪ (limit was {user_input[\"price\"]} ₪)')\n",
    "print()\n",
    "[print_dish(dish) for dish in solution]\n",
    "\n",
    "print('Evolution Plot:')\n",
    "pd.Series(res).plot()\n",
    "pd.Series(res).rolling(window=100).mean().plot()"
   ]
  },
  {
   "cell_type": "code",
   "execution_count": 10,
   "id": "410eccae",
   "metadata": {
    "scrolled": true
   },
   "outputs": [],
   "source": [
    "# print('initial:')\n",
    "# [([print(database[dish]) for dish in solution], print()) for solution in ga_instance.initial_population]\n",
    "\n",
    "# print('res:')\n",
    "# [([print(database[dish]) for dish in solution], print()) for solution in ga_instance.population]\n",
    "\n",
    "# print()"
   ]
  },
  {
   "cell_type": "code",
   "execution_count": null,
   "id": "1f672c6f",
   "metadata": {},
   "outputs": [],
   "source": []
  },
  {
   "cell_type": "code",
   "execution_count": null,
   "id": "680bc61f",
   "metadata": {},
   "outputs": [],
   "source": []
  },
  {
   "cell_type": "code",
   "execution_count": null,
   "id": "76ab7b3a",
   "metadata": {},
   "outputs": [],
   "source": []
  }
 ],
 "metadata": {
  "kernelspec": {
   "display_name": "Python 3 (ipykernel)",
   "language": "python",
   "name": "python3"
  },
  "language_info": {
   "codemirror_mode": {
    "name": "ipython",
    "version": 3
   },
   "file_extension": ".py",
   "mimetype": "text/x-python",
   "name": "python",
   "nbconvert_exporter": "python",
   "pygments_lexer": "ipython3",
   "version": "3.9.13"
  },
  "varInspector": {
   "cols": {
    "lenName": 16,
    "lenType": 16,
    "lenVar": 40
   },
   "kernels_config": {
    "python": {
     "delete_cmd_postfix": "",
     "delete_cmd_prefix": "del ",
     "library": "var_list.py",
     "varRefreshCmd": "print(var_dic_list())"
    },
    "r": {
     "delete_cmd_postfix": ") ",
     "delete_cmd_prefix": "rm(",
     "library": "var_list.r",
     "varRefreshCmd": "cat(var_dic_list()) "
    }
   },
   "types_to_exclude": [
    "module",
    "function",
    "builtin_function_or_method",
    "instance",
    "_Feature"
   ],
   "window_display": false
  }
 },
 "nbformat": 4,
 "nbformat_minor": 5
}
