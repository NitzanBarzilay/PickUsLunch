{
 "cells": [
  {
   "cell_type": "markdown",
   "id": "0cc0b675",
   "metadata": {},
   "source": [
    "# POC for Genetic Algorithm WOLT"
   ]
  },
  {
   "cell_type": "markdown",
   "id": "d65f96d3",
   "metadata": {},
   "source": [
    "### Imports"
   ]
  },
  {
   "cell_type": "code",
   "execution_count": 1,
   "id": "895b7217",
   "metadata": {},
   "outputs": [],
   "source": [
    "import pygad\n",
    "import numpy as np\n",
    "import pandas as pd\n",
    "import time\n",
    "from IPython.display import Image, display\n",
    "from copy import deepcopy"
   ]
  },
  {
   "cell_type": "markdown",
   "id": "3c8d7f3a",
   "metadata": {},
   "source": [
    "### helper functions:"
   ]
  },
  {
   "cell_type": "code",
   "execution_count": 2,
   "id": "4bd83330",
   "metadata": {},
   "outputs": [],
   "source": [
    "NO_IMAGE_URL = 'https://upload.wikimedia.org/wikipedia/commons/thumb/a/ac/No_image_available.svg/1024px-No_image_available.svg.png'"
   ]
  },
  {
   "cell_type": "code",
   "execution_count": 3,
   "id": "96c37b80",
   "metadata": {},
   "outputs": [],
   "source": [
    "# def print_dish(dish):\n",
    "#     print('-' * 50)\n",
    "#     print(f'{dish[\"name\"]} - {dish[\"price\"]} ₪')\n",
    "    \n",
    "#     if type(dish[\"image\"]) == str:\n",
    "#         display(Image(url=dish[\"image\"], width=400, height=400))\n",
    "#     else:\n",
    "#         display(Image(url=NO_IMAGE_URL, width=200, height=200))\n",
    "\n",
    "#     print(f'vegetarian: {\"✅\" if dish[\"vegetarian\"] else \"❌\"}', end=' ')\n",
    "#     print(f'GF: {\"✅\" if dish[\"GF\"] else \"❌\"}', end=' ')\n",
    "#     print(f'spicy: {\"✅\" if dish[\"spicy\"] else \"❌\"}', end=' ')\n",
    "#     print(f'alcohol_percentage: {\"✅\" if dish[\"alcohol_percentage\"] else \"❌\"}')\n",
    "#     print('-' * 50)\n"
   ]
  },
  {
   "cell_type": "code",
   "execution_count": 53,
   "id": "4bb396c6",
   "metadata": {},
   "outputs": [],
   "source": [
    "def print_dish(solution, const, i):\n",
    "    dish  = solution[i]\n",
    "    \n",
    "    print('-' * 50)\n",
    "    print(f'{dish[\"name\"]} - {dish[\"price\"]} ₪')\n",
    "    \n",
    "    if type(dish[\"image\"]) == str:\n",
    "        display(Image(url=dish[\"image\"], width=400, height=400))\n",
    "    else:\n",
    "        display(Image(url=NO_IMAGE_URL, width=200, height=200))\n",
    "    \n",
    "    print(f'price: {\"✅\" if dish[\"price\"] <= const[\"price\"][i] else f\"❌\"}', end=' ')\n",
    "    print(f'vegetarian: {\"✅\" if dish[\"vegetarian\"] == const[\"vegetarian\"][i] else f\"❌\"}', end=' ')\n",
    "    print(f'GF: {f\"✅\" if dish[\"GF\"] == const[\"GF\"][i] else f\"❌\"}', end=' ')\n",
    "    print(f'spicy: {f\"✅\" if dish[\"spicy\"] == const[\"spicy\"][i] else f\"❌\"}', end=' ')\n",
    "    print(f'alcohol: {f\"✅\" if (dish[\"alcohol_percentage\"] > 0) == const[\"alcohol_percentage\"][i] else f\"❌\"}')\n",
    "\n",
    "    print('-' * 50)\n",
    "\n"
   ]
  },
  {
   "cell_type": "code",
   "execution_count": 54,
   "id": "a57f5164",
   "metadata": {},
   "outputs": [],
   "source": [
    "def get_user_input(people, kosher, cuisines, price, vegetarian, GF, spicy, alcohol_percentage, min_rating):\n",
    "    return dict(people             = people,\n",
    "                kosher             = kosher,\n",
    "                cuisines           = cuisines,\n",
    "                price              = price,\n",
    "                vegetarian         = vegetarian,\n",
    "                GF                 = GF,\n",
    "                spicy              = spicy,\n",
    "                alcohol_percentage = alcohol_percentage,\n",
    "                min_rating         = max(min_rating))"
   ]
  },
  {
   "cell_type": "markdown",
   "id": "1b594984",
   "metadata": {},
   "source": [
    "### Loss (fitness) function:"
   ]
  },
  {
   "cell_type": "code",
   "execution_count": 55,
   "id": "482c0340",
   "metadata": {},
   "outputs": [],
   "source": [
    "def fitness_function(solution, solution_idx):\n",
    "    solution = [database.iloc[i] for i in solution]\n",
    "\n",
    "    price_const = [(dish['price'] <= inp) for (dish, inp) in zip(solution, user_input['price'])]\n",
    "\n",
    "    vegetarian_const = [dish['vegetarian'] == inp for (dish, inp) in zip(solution, user_input['vegetarian'])]    \n",
    "    GF_const = [dish['GF'] == inp for (dish, inp) in zip(solution, user_input['GF'])]    \n",
    "    spicy_const = [dish['spicy'] == inp for (dish, inp) in zip(solution, user_input['spicy'])]    \n",
    "    alcohol_percentage_const = [(dish['alcohol_percentage'] > 0) == inp for (dish, inp) in zip(solution, user_input['alcohol_percentage'])]  \n",
    "    \n",
    "    hard_const = all([all(price_const),\n",
    "                      all(vegetarian_const),\n",
    "                      all(GF_const),\n",
    "                      all(spicy_const),\n",
    "                      all(alcohol_percentage_const)])\n",
    "    \n",
    "    soft_price = np.mean([s * (p['price']/ip) for (s, (p, ip)) in zip(price_const, zip(solution, user_input[\"price\"]))])\n",
    "    \n",
    "    soft_const = np.mean([soft_price,\n",
    "                          sum(vegetarian_const)         / user_input['people'], \n",
    "                          sum(GF_const)                 / user_input['people'],\n",
    "                          sum(spicy_const)              / user_input['people'],\n",
    "                          sum(alcohol_percentage_const) / user_input['people'],\n",
    "                         ])\n",
    "    fitness = np.mean([int(hard_const), soft_const])\n",
    "    res.append(fitness)\n",
    "\n",
    "    return fitness"
   ]
  },
  {
   "cell_type": "markdown",
   "id": "d88b45f0",
   "metadata": {},
   "source": [
    "### Initialize"
   ]
  },
  {
   "cell_type": "code",
   "execution_count": 56,
   "id": "f383e027",
   "metadata": {},
   "outputs": [],
   "source": [
    "res = []"
   ]
  },
  {
   "cell_type": "code",
   "execution_count": 57,
   "id": "f91e7a2f",
   "metadata": {},
   "outputs": [],
   "source": [
    "# load database:\n",
    "total_df = pd.read_csv('./data/csv_wolt_menus_21-8-22.csv')\n",
    "rest_df = pd.read_csv('./data/20_rest_sample.csv').set_index('name')\n",
    "groups = [g for g in total_df.groupby('rest_name') if g[0] in list(rest_df.index)][::-1]"
   ]
  },
  {
   "cell_type": "markdown",
   "id": "e9be914d",
   "metadata": {},
   "source": [
    "### User input:"
   ]
  },
  {
   "cell_type": "code",
   "execution_count": 58,
   "id": "1543b163",
   "metadata": {},
   "outputs": [
    {
     "data": {
      "text/plain": [
       "{'people': 3,\n",
       " 'kosher': False,\n",
       " 'cuisines': ['fresh',\n",
       "  'mediterranean',\n",
       "  'healthy',\n",
       "  'salad',\n",
       "  'asian',\n",
       "  'japanese',\n",
       "  'thai',\n",
       "  'tortilla',\n",
       "  'mexican',\n",
       "  'nacho'],\n",
       " 'price': [75, 100, 60],\n",
       " 'vegetarian': [1, 0, 0],\n",
       " 'GF': [0, 1, 0],\n",
       " 'spicy': [0, 1, 1],\n",
       " 'alcohol_percentage': [0, 0, 0],\n",
       " 'min_rating': 8}"
      ]
     },
     "execution_count": 58,
     "metadata": {},
     "output_type": "execute_result"
    }
   ],
   "source": [
    "# # file 1:\n",
    "# user_input = get_user_input(people             = 3,\n",
    "#                             kosher             = False,\n",
    "#                             cuisines           = ['burger', 'hummus', 'salad'],\n",
    "#                             price              = [80, 80, 80],\n",
    "#                             vegetarian         = [0, 1, 0],\n",
    "#                             GF                 = [0, 0, 0],\n",
    "#                             spicy              = [0, 0, 1],\n",
    "#                             alcohol_percentage = [0, 0, 0],\n",
    "#                             min_rating         = [7, 5, 6])\n",
    "\n",
    "# # file 2:\n",
    "# user_input = get_user_input(people             = 3,\n",
    "#                             kosher             = True,\n",
    "#                             cuisines           =  ['burger', 'meat', 'bagel', 'thai', 'salad','thai'],\n",
    "#                             price              = [90, 80, 100],\n",
    "#                             vegetarian         = [0, 1, 0],\n",
    "#                             GF                 = [0, 0, 0],\n",
    "#                             spicy              = [0, 0, 1],\n",
    "#                             alcohol_percentage = [0, 0, 0],\n",
    "#                             min_rating         = [7, 5, 6])\n",
    "\n",
    "\n",
    "\n",
    "# file 3:\n",
    "base_user_input = get_user_input(people             = 3,\n",
    "                                 kosher             = False,\n",
    "                                 cuisines           = ['fresh','mediterranean','healthy','salad',\n",
    "                                                       'asian', 'japanese','thai', 'tortilla','mexican','nacho'],\n",
    "                                 price              = [75, 100, 60],\n",
    "                                 vegetarian         = [1, 0, 0],\n",
    "                                 GF                 = [0, 1, 0],\n",
    "                                 spicy              = [0, 1, 1],\n",
    "                                 alcohol_percentage = [0, 0, 0], # todo\n",
    "                                 min_rating         = [7, 8, 1])\n",
    "\n",
    "\n",
    "# # file 4:\n",
    "# user_input = get_user_input(people             = 3,\n",
    "#                             kosher             = False,\n",
    "#                             cuisines           = [],\n",
    "#                             price              = [60, 60, 60],\n",
    "#                             vegetarian         = [1, 1, 1],\n",
    "#                             GF                 = [0, 0, 1],\n",
    "#                             spicy              = [1, 0, 1],\n",
    "#                             alcohol_percentage = [0, 0, 0], # todo\n",
    "#                             min_rating         = [4, 6, 6])\n",
    "\n",
    "\n",
    "\n",
    "\n",
    "base_user_input"
   ]
  },
  {
   "cell_type": "code",
   "execution_count": 59,
   "id": "18f46131",
   "metadata": {},
   "outputs": [
    {
     "data": {
      "text/plain": [
       "['Wok Republic | Ben Yehuda',\n",
       " 'Under The Tree',\n",
       " 'Tulip Hungarian',\n",
       " 'The Gelato Factory | TLV',\n",
       " 'The Diner',\n",
       " 'Tata | Tel Aviv',\n",
       " 'Taqueria',\n",
       " 'Shipudey Sami',\n",
       " 'Pokai',\n",
       " 'Pancake House TLV | TLV Port',\n",
       " 'Pam Pam',\n",
       " 'Mills',\n",
       " 'HaMalabiya | Ibn Gabirol',\n",
       " 'Go Noodles | Sderot Yehudit',\n",
       " 'Frame Chef & Sushi Bar | Hamasger',\n",
       " 'Congress Basel',\n",
       " 'Chicken Station | Bursa',\n",
       " 'Bukhara',\n",
       " 'Boaz Brothers ',\n",
       " 'Baladi Chic']"
      ]
     },
     "execution_count": 59,
     "metadata": {},
     "output_type": "execute_result"
    }
   ],
   "source": [
    "[g[0] for g in groups]"
   ]
  },
  {
   "cell_type": "markdown",
   "id": "17c53b78",
   "metadata": {},
   "source": [
    "# Algorithm run:"
   ]
  },
  {
   "cell_type": "code",
   "execution_count": 63,
   "id": "cb5ead1c",
   "metadata": {
    "scrolled": false
   },
   "outputs": [
    {
     "name": "stdout",
     "output_type": "stream",
     "text": [
      "------- Searching space of size 3649783 -------\n",
      "\n",
      "..\n",
      "best fitness updated to 0.445\n",
      "........\n",
      "best fitness updated to 0.45\n",
      ".....\n",
      "best fitness updated to 0.45\n",
      ".....total time 7.178s\n",
      "\n",
      "----------------- Best solution ------------------\n",
      "\n",
      "Fitness:          0.4498587983709923\n",
      "Hard constraints: 🛑\n",
      "Total price:      185.0 ₪ (limit was [71.66666666666667, 96.66666666666667, 56.666666666666664] ₪)\n",
      "\n",
      "--------------------------------------------------\n",
      "גיוזה צמחונית - 52.0 ₪\n"
     ]
    },
    {
     "data": {
      "text/html": [
       "<img src=\"https://wolt-menu-images-cdn.wolt.com/menu-images/5f7630d1d2f3db7dcf699c52/44f5f18e-062a-11eb-8572-3e4b32dd2423__________.jpeg\" width=\"400\" height=\"400\"/>"
      ],
      "text/plain": [
       "<IPython.core.display.Image object>"
      ]
     },
     "metadata": {},
     "output_type": "display_data"
    },
    {
     "name": "stdout",
     "output_type": "stream",
     "text": [
      "price: ✅ vegetarian: ✅ GF: ✅ spicy: ✅ alcohol: ✅\n",
      "--------------------------------------------------\n",
      "--------------------------------------------------\n",
      "עסקית ‫קטרפילר ספייסי צ׳יקן  🌶 - 79.0 ₪\n"
     ]
    },
    {
     "data": {
      "text/html": [
       "<img src=\"https://wolt-menu-images-cdn.wolt.com/menu-images/5f7630d1d2f3db7dcf699c52/eeeaeeb6-06e2-11eb-92b7-b20a90145f1d_rest38_2017090416475381.jpeg\" width=\"400\" height=\"400\"/>"
      ],
      "text/plain": [
       "<IPython.core.display.Image object>"
      ]
     },
     "metadata": {},
     "output_type": "display_data"
    },
    {
     "name": "stdout",
     "output_type": "stream",
     "text": [
      "price: ✅ vegetarian: ✅ GF: ❌ spicy: ✅ alcohol: ✅\n",
      "--------------------------------------------------\n",
      "--------------------------------------------------\n",
      "‫מאקי I/O ספייסי סלמון ואבוקדו - 54.0 ₪\n"
     ]
    },
    {
     "data": {
      "text/html": [
       "<img src=\"https://wolt-menu-images-cdn.wolt.com/menu-images/5f7630d1d2f3db7dcf699c52/466299a6-0633-11eb-a1d3-3e4b32dd2423_____________________.jpeg\" width=\"400\" height=\"400\"/>"
      ],
      "text/plain": [
       "<IPython.core.display.Image object>"
      ]
     },
     "metadata": {},
     "output_type": "display_data"
    },
    {
     "name": "stdout",
     "output_type": "stream",
     "text": [
      "price: ✅ vegetarian: ✅ GF: ✅ spicy: ✅ alcohol: ✅\n",
      "--------------------------------------------------\n",
      "\n",
      "Evolution Plot:\n"
     ]
    },
    {
     "data": {
      "text/plain": [
       "<AxesSubplot:>"
      ]
     },
     "execution_count": 63,
     "metadata": {},
     "output_type": "execute_result"
    },
    {
     "data": {
      "image/png": "[encoded data removed]",
      "text/plain": [
       "<Figure size 640x480 with 1 Axes>"
      ]
     },
     "metadata": {},
     "output_type": "display_data"
    }
   ],
   "source": [
    "best_fitness = -np.inf\n",
    "best_solution = np.nan\n",
    "best_res = []\n",
    "best_database = np.nan\n",
    "\n",
    "found = False\n",
    "\n",
    "combinations = 0\n",
    "for _, df in groups:\n",
    "    combinations += (df.shape[0] ** 3)\n",
    "\n",
    "print(f'------- Searching space of size {combinations} -------\\n')\n",
    "\n",
    "start = time.time()\n",
    "for restaurant, database in groups:\n",
    "    print('.', end='')\n",
    "    \n",
    "    rest_input = rest_df.loc[restaurant]\n",
    "    \n",
    "    delivery_per_person = rest_input[\"delivery price\"] / 3\n",
    "    user_input = deepcopy(base_user_input)\n",
    "    user_input[\"price\"] = [p - delivery_per_person for p in user_input[\"price\"]]\n",
    "#     print(user_input[\"price\"])\n",
    "    \n",
    "    \n",
    "    if rest_input.kosher != user_input['kosher']:\n",
    "        continue\n",
    "    if rest_input.rating < user_input[\"min_rating\"]:\n",
    "        continue\n",
    "    \n",
    "    \n",
    "    database.reset_index(inplace=True, drop=True)\n",
    "    res = []\n",
    "\n",
    "    # choose run params:\n",
    "    ga_instance = pygad.GA(num_generations         = 1000,\n",
    "                           num_parents_mating      = 20,\n",
    "                           sol_per_pop             = 30,\n",
    "                           num_genes               = user_input['people'],\n",
    "\n",
    "                           init_range_low          = 0,\n",
    "                           init_range_high         = len(database),\n",
    "\n",
    "                           random_mutation_min_val = 0,\n",
    "                           random_mutation_max_val = len(database),\n",
    "\n",
    "                           mutation_by_replacement = True,\n",
    "                           mutation_num_genes      = 1,\n",
    "                           mutation_probability    = 0.1,\n",
    "\n",
    "                           gene_type               = int,\n",
    "                           fitness_func            = fitness_function,\n",
    "                          )\n",
    "\n",
    "    # run:\n",
    "    ga_instance.run()\n",
    "\n",
    "    # print solution:\n",
    "    solution, fitness, i = ga_instance.best_solution()\n",
    "    \n",
    "    if fitness > best_fitness:\n",
    "        best_fitness = fitness\n",
    "        best_res = res.copy()\n",
    "        best_solution = solution\n",
    "        best_database = database.copy()\n",
    "        print(f'\\nbest fitness updated to {round(best_fitness, 3)}', end='')\n",
    "        if (not found) and (best_fitness > 0.5):\n",
    "            initial = time.time()\n",
    "            print(f\"---> a solution was found ! 🏆 ({round(initial - start, 3)}s)\")\n",
    "            found = True\n",
    "        else: print()\n",
    "\n",
    "end = time.time()\n",
    "best_solution = [best_database.iloc[i] for i in best_solution]\n",
    "\n",
    "print(f'total time {round(end-start,3)}s')\n",
    "print(f'\\n----------------- Best solution ------------------\\n')\n",
    "print(f'Fitness:          {best_fitness}')\n",
    "print(f'Hard constraints: {\"🏆\" if best_fitness > 0.5 else \"🛑\"}')\n",
    "print(f'Total price:      {sum([dish[\"price\"] for dish in best_solution])} ₪ (limit was {user_input[\"price\"]} ₪)')\n",
    "print()\n",
    "[print_dish(best_solution, user_input, i) for i in range(len(best_solution))]\n",
    "\n",
    "print()\n",
    "print('Evolution Plot:')\n",
    "pd.Series(best_res).plot()\n",
    "pd.Series(best_res).rolling(window=100).mean().plot()\n",
    "pd.Series(np.ones(len(best_res)) * 0.5).plot(style='--')\n",
    "\n"
   ]
  },
  {
   "cell_type": "code",
   "execution_count": 16,
   "id": "9ea007bc",
   "metadata": {},
   "outputs": [
    {
     "data": {
      "text/plain": [
       "[rest_name                                        Wok Republic | Allenby\n",
       " name                                        צ'יקן סאטה נודלס רידיפיין 🌱\n",
       " price                                                              62.0\n",
       " alcohol_percentage                                                  0.0\n",
       " vegetarian                                                         True\n",
       " GF                                                                False\n",
       " image                 https://wolt-menu-images-cdn.wolt.com/menu-ima...\n",
       " days                                              [1, 2, 3, 4, 5, 6, 7]\n",
       " spicy                                                             False\n",
       " Name: 22, dtype: object,\n",
       " rest_name                                        Wok Republic | Allenby\n",
       " name                                    ‫קונג פאו נודלס ללא גלוטן 🌾  🌶🌶\n",
       " price                                                              57.0\n",
       " alcohol_percentage                                                  0.0\n",
       " vegetarian                                                        False\n",
       " GF                                                                 True\n",
       " image                 https://wolt-menu-images-cdn.wolt.com/menu-ima...\n",
       " days                                              [1, 2, 3, 4, 5, 6, 7]\n",
       " spicy                                                              True\n",
       " Name: 39, dtype: object,\n",
       " rest_name                                        Wok Republic | Allenby\n",
       " name                                               קארי וואג׳י נודלס  🌶\n",
       " price                                                              54.0\n",
       " alcohol_percentage                                                  0.0\n",
       " vegetarian                                                        False\n",
       " GF                                                                False\n",
       " image                 https://wolt-menu-images-cdn.wolt.com/menu-ima...\n",
       " days                                              [1, 2, 3, 4, 5, 6, 7]\n",
       " spicy                                                              True\n",
       " Name: 31, dtype: object]"
      ]
     },
     "execution_count": 16,
     "metadata": {},
     "output_type": "execute_result"
    }
   ],
   "source": [
    "best_solution"
   ]
  },
  {
   "cell_type": "code",
   "execution_count": null,
   "id": "5bb556cb",
   "metadata": {},
   "outputs": [],
   "source": []
  },
  {
   "cell_type": "code",
   "execution_count": null,
   "id": "dda811d0",
   "metadata": {},
   "outputs": [],
   "source": []
  },
  {
   "cell_type": "code",
   "execution_count": null,
   "id": "387e320a",
   "metadata": {},
   "outputs": [],
   "source": []
  },
  {
   "cell_type": "code",
   "execution_count": null,
   "id": "45d1d009",
   "metadata": {},
   "outputs": [],
   "source": []
  },
  {
   "cell_type": "code",
   "execution_count": null,
   "id": "dc447511",
   "metadata": {},
   "outputs": [],
   "source": []
  },
  {
   "cell_type": "code",
   "execution_count": null,
   "id": "d1f4c0ee",
   "metadata": {},
   "outputs": [],
   "source": []
  },
  {
   "cell_type": "code",
   "execution_count": null,
   "id": "f407ed5e",
   "metadata": {},
   "outputs": [],
   "source": []
  },
  {
   "cell_type": "code",
   "execution_count": null,
   "id": "da1264b7",
   "metadata": {},
   "outputs": [],
   "source": []
  },
  {
   "cell_type": "code",
   "execution_count": null,
   "id": "4eb66191",
   "metadata": {},
   "outputs": [],
   "source": []
  },
  {
   "cell_type": "code",
   "execution_count": null,
   "id": "ef1f5322",
   "metadata": {},
   "outputs": [],
   "source": []
  },
  {
   "cell_type": "code",
   "execution_count": null,
   "id": "03512669",
   "metadata": {},
   "outputs": [],
   "source": []
  },
  {
   "cell_type": "code",
   "execution_count": null,
   "id": "0970ae79",
   "metadata": {},
   "outputs": [],
   "source": []
  },
  {
   "cell_type": "code",
   "execution_count": null,
   "id": "e68e30e3",
   "metadata": {},
   "outputs": [],
   "source": []
  },
  {
   "cell_type": "code",
   "execution_count": null,
   "id": "2e7db797",
   "metadata": {},
   "outputs": [],
   "source": []
  },
  {
   "cell_type": "code",
   "execution_count": null,
   "id": "9e87ee18",
   "metadata": {},
   "outputs": [],
   "source": []
  },
  {
   "cell_type": "code",
   "execution_count": null,
   "id": "4c18fb3e",
   "metadata": {},
   "outputs": [],
   "source": []
  },
  {
   "cell_type": "code",
   "execution_count": null,
   "id": "ab2c4389",
   "metadata": {},
   "outputs": [],
   "source": []
  },
  {
   "cell_type": "code",
   "execution_count": null,
   "id": "cb846fe1",
   "metadata": {},
   "outputs": [],
   "source": []
  },
  {
   "cell_type": "code",
   "execution_count": null,
   "id": "dd8d66ac",
   "metadata": {},
   "outputs": [],
   "source": []
  },
  {
   "cell_type": "code",
   "execution_count": null,
   "id": "a02ceb0b",
   "metadata": {},
   "outputs": [],
   "source": []
  },
  {
   "cell_type": "code",
   "execution_count": null,
   "id": "cfedd81b",
   "metadata": {},
   "outputs": [],
   "source": []
  },
  {
   "cell_type": "code",
   "execution_count": null,
   "id": "f511cc5d",
   "metadata": {},
   "outputs": [],
   "source": []
  },
  {
   "cell_type": "code",
   "execution_count": null,
   "id": "f21e37f3",
   "metadata": {},
   "outputs": [],
   "source": []
  },
  {
   "cell_type": "code",
   "execution_count": null,
   "id": "f654c31a",
   "metadata": {},
   "outputs": [],
   "source": []
  },
  {
   "cell_type": "code",
   "execution_count": null,
   "id": "6925452c",
   "metadata": {},
   "outputs": [],
   "source": []
  },
  {
   "cell_type": "code",
   "execution_count": null,
   "id": "ab6456b3",
   "metadata": {},
   "outputs": [],
   "source": []
  },
  {
   "cell_type": "code",
   "execution_count": null,
   "id": "53c14a5b",
   "metadata": {},
   "outputs": [],
   "source": []
  },
  {
   "cell_type": "code",
   "execution_count": null,
   "id": "fde43d57",
   "metadata": {},
   "outputs": [],
   "source": []
  },
  {
   "cell_type": "code",
   "execution_count": null,
   "id": "e955eaaa",
   "metadata": {},
   "outputs": [],
   "source": []
  },
  {
   "cell_type": "code",
   "execution_count": null,
   "id": "439c7192",
   "metadata": {},
   "outputs": [],
   "source": []
  },
  {
   "cell_type": "code",
   "execution_count": null,
   "id": "4e5f97c4",
   "metadata": {},
   "outputs": [],
   "source": []
  },
  {
   "cell_type": "code",
   "execution_count": null,
   "id": "df1d4370",
   "metadata": {},
   "outputs": [],
   "source": []
  },
  {
   "cell_type": "code",
   "execution_count": null,
   "id": "638e647c",
   "metadata": {},
   "outputs": [],
   "source": []
  },
  {
   "cell_type": "code",
   "execution_count": null,
   "id": "2889190c",
   "metadata": {},
   "outputs": [],
   "source": []
  },
  {
   "cell_type": "code",
   "execution_count": null,
   "id": "d9aac02d",
   "metadata": {},
   "outputs": [],
   "source": []
  },
  {
   "cell_type": "code",
   "execution_count": null,
   "id": "e7130896",
   "metadata": {},
   "outputs": [],
   "source": []
  },
  {
   "cell_type": "code",
   "execution_count": null,
   "id": "71a2776c",
   "metadata": {},
   "outputs": [],
   "source": []
  },
  {
   "cell_type": "code",
   "execution_count": null,
   "id": "7d5f5fac",
   "metadata": {},
   "outputs": [],
   "source": []
  },
  {
   "cell_type": "code",
   "execution_count": null,
   "id": "2cc24592",
   "metadata": {},
   "outputs": [],
   "source": []
  },
  {
   "cell_type": "code",
   "execution_count": null,
   "id": "2ed34e6e",
   "metadata": {},
   "outputs": [],
   "source": []
  },
  {
   "cell_type": "code",
   "execution_count": null,
   "id": "4f09c07f",
   "metadata": {},
   "outputs": [],
   "source": []
  },
  {
   "cell_type": "code",
   "execution_count": null,
   "id": "dc05908a",
   "metadata": {},
   "outputs": [],
   "source": []
  },
  {
   "cell_type": "code",
   "execution_count": null,
   "id": "9707d94e",
   "metadata": {},
   "outputs": [],
   "source": []
  },
  {
   "cell_type": "code",
   "execution_count": null,
   "id": "192d7447",
   "metadata": {},
   "outputs": [],
   "source": []
  },
  {
   "cell_type": "code",
   "execution_count": null,
   "id": "ee32c583",
   "metadata": {},
   "outputs": [],
   "source": []
  },
  {
   "cell_type": "code",
   "execution_count": null,
   "id": "574443ef",
   "metadata": {},
   "outputs": [],
   "source": []
  },
  {
   "cell_type": "code",
   "execution_count": 40,
   "id": "e4b14bdd",
   "metadata": {
    "scrolled": true
   },
   "outputs": [
    {
     "name": "stdout",
     "output_type": "stream",
     "text": [
      "------- Searching space of size 30676897 -------\n",
      "\n",
      "...............\n",
      "best fitness updated to 0.46\n",
      "................................................\n",
      "best fitness updated to 0.971---> a solution was found ! 🏆 (2.705s)\n",
      "...............................................................................................................\n",
      "best fitness updated to 0.98\n",
      "...............\n",
      "best fitness updated to 0.989\n",
      "............................................................................................................................................................................................................................................................................................................................................................................................................................................................................................................\n",
      "best fitness updated to 0.995\n",
      "............................................................................................................................................................................................................................................................total time 58.584s\n",
      "\n",
      "----------------- Best solution ------------------\n",
      "\n",
      "Fitness:          0.9948796296296296\n",
      "Hard constraints: 🏆\n",
      "Total price:      255.0 ₪ (limit was [90, 80, 100] ₪)\n",
      "\n",
      "--------------------------------------------------\n",
      "פיצה בצל קלמטה - 89.0 ₪\n"
     ]
    },
    {
     "data": {
      "text/html": [
       "<img src=\"https://wolt-menu-images-cdn.wolt.com/menu-images/61adee7b72bc707a3381753a/303c555e-6c80-11ec-baf7-a6dc7affe494__________.jpeg\" width=\"400\" height=\"400\"/>"
      ],
      "text/plain": [
       "<IPython.core.display.Image object>"
      ]
     },
     "metadata": {},
     "output_type": "display_data"
    },
    {
     "name": "stdout",
     "output_type": "stream",
     "text": [
      "price: ✅ vegetarian: ✅ GF: ✅ spicy: ✅ alcohol: ✅\n",
      "--------------------------------------------------\n",
      "--------------------------------------------------\n",
      "‫פיצה מרגריטה טבעונית 🌱 - 79.0 ₪\n"
     ]
    },
    {
     "data": {
      "text/html": [
       "<img src=\"https://wolt-menu-images-cdn.wolt.com/menu-images/61adee7b72bc707a3381753a/d504ab5e-6c85-11ec-9abf-0ec8ecf011b9________.jpeg\" width=\"400\" height=\"400\"/>"
      ],
      "text/plain": [
       "<IPython.core.display.Image object>"
      ]
     },
     "metadata": {},
     "output_type": "display_data"
    },
    {
     "name": "stdout",
     "output_type": "stream",
     "text": [
      "price: ✅ vegetarian: ✅ GF: ✅ spicy: ✅ alcohol: ✅\n",
      "--------------------------------------------------\n",
      "--------------------------------------------------\n",
      "פיצה חריפה🌶 - 87.0 ₪\n"
     ]
    },
    {
     "data": {
      "text/html": [
       "<img src=\"https://wolt-menu-images-cdn.wolt.com/menu-images/61adee7b72bc707a3381753a/0ca26b84-6c84-11ec-83b7-0ac20d237fd0___________.jpeg\" width=\"400\" height=\"400\"/>"
      ],
      "text/plain": [
       "<IPython.core.display.Image object>"
      ]
     },
     "metadata": {},
     "output_type": "display_data"
    },
    {
     "name": "stdout",
     "output_type": "stream",
     "text": [
      "price: ✅ vegetarian: ✅ GF: ✅ spicy: ✅ alcohol: ✅\n",
      "--------------------------------------------------\n",
      "\n",
      "Evolution Plot:\n"
     ]
    },
    {
     "data": {
      "text/plain": [
       "<AxesSubplot:>"
      ]
     },
     "execution_count": 40,
     "metadata": {},
     "output_type": "execute_result"
    },
    {
     "data": {
      "image/png": "[encoded data removed]",
      "text/plain": [
       "<Figure size 640x480 with 1 Axes>"
      ]
     },
     "metadata": {},
     "output_type": "display_data"
    }
   ],
   "source": [
    "best_fitness = -np.inf\n",
    "best_solution = np.nan\n",
    "best_res = []\n",
    "best_database = np.nan\n",
    "\n",
    "found = False\n",
    "\n",
    "combinations = 0\n",
    "for _, df in groups:\n",
    "    combinations += (df.shape[0] ** user_input['people'])\n",
    "\n",
    "print(f'------- Searching space of size {combinations} -------\\n')\n",
    "\n",
    "start = time.time()\n",
    "for restaurant, database in groups:\n",
    "    print('...', end='')\n",
    "    rest_input = rest_df.loc[restaurant]\n",
    "    if rest_input.kosher != user_input['kosher']:\n",
    "        continue\n",
    "    if rest_input.rating < user_input[\"min_rating\"]:\n",
    "        continue\n",
    "    \n",
    "    database.reset_index(inplace=True, drop=True)\n",
    "    res = []\n",
    "\n",
    "    # choose run params:\n",
    "    ga_instance = pygad.GA(num_generations         = 1000,\n",
    "                           num_parents_mating      = 20,\n",
    "                           sol_per_pop             = 30,\n",
    "                           num_genes               = user_input['people'],\n",
    "\n",
    "                           init_range_low          = 0,\n",
    "                           init_range_high         = len(database),\n",
    "\n",
    "                           random_mutation_min_val = 0,\n",
    "                           random_mutation_max_val = len(database),\n",
    "\n",
    "                           mutation_by_replacement = True,\n",
    "                           mutation_num_genes      = 1,\n",
    "                           mutation_probability    = 0.1,\n",
    "\n",
    "                           gene_type               = int,\n",
    "                           fitness_func            = fitness_function,\n",
    "                          )\n",
    "\n",
    "    # run:\n",
    "    ga_instance.run()\n",
    "\n",
    "    # print solution:\n",
    "    solution, fitness, i = ga_instance.best_solution()\n",
    "    \n",
    "    if fitness > best_fitness:\n",
    "        best_fitness = fitness\n",
    "        best_res = res.copy()\n",
    "        best_solution = solution\n",
    "        best_database = database.copy()\n",
    "        print(f'\\nbest fitness updated to {round(best_fitness, 3)}', end='')\n",
    "        if (not found) and (best_fitness > 0.5):\n",
    "            initial = time.time()\n",
    "            print(f\"---> a solution was found ! 🏆 ({round(initial - start, 3)}s)\")\n",
    "            found = True\n",
    "        else: print()\n",
    "\n",
    "end = time.time()\n",
    "best_solution = [best_database.iloc[i] for i in best_solution]\n",
    "\n",
    "print(f'total time {round(end-start,3)}s')\n",
    "print(f'\\n----------------- Best solution ------------------\\n')\n",
    "print(f'Fitness:          {best_fitness}')\n",
    "print(f'Hard constraints: {\"🏆\" if best_fitness > 0.5 else \"🛑\"}')\n",
    "print(f'Total price:      {sum([dish[\"price\"] for dish in best_solution])} ₪ (limit was {user_input[\"price\"]} ₪)')\n",
    "print()\n",
    "[print_dish(best_solution, user_input, i) for i in range(len(best_solution))]\n",
    "\n",
    "print()\n",
    "print('Evolution Plot:')\n",
    "pd.Series(best_res).plot()\n",
    "pd.Series(best_res).rolling(window=100).mean().plot()\n",
    "pd.Series(np.ones(len(best_res)) * 0.5).plot(style='--')\n"
   ]
  },
  {
   "cell_type": "code",
   "execution_count": 18,
   "id": "f31cecff",
   "metadata": {
    "scrolled": false
   },
   "outputs": [
    {
     "name": "stdout",
     "output_type": "stream",
     "text": [
      "------- Searching space of size 30676897 -------\n",
      "\n",
      "...\n",
      "best fitness updated to 0.362\n",
      "...............\n",
      "best fitness updated to 0.394\n",
      ".........\n",
      "best fitness updated to 0.449\n",
      "....................................................................................................................................\n",
      "best fitness updated to 0.451\n",
      ".................................................................................\n",
      "best fitness updated to 0.457\n",
      ".....................................................................................................................................................................................................................................................................................................................................................................................................................................................................................................................................................................................................................................................................\n",
      "best fitness updated to 0.979---> a solution was found ! 🏆 (119.753s)\n",
      "................................................total time 127.202s\n",
      "\n",
      "----------------- Best solution ------------------\n",
      "\n",
      "Fitness:          0.9793333333333333\n",
      "Hard constraints: 🏆\n",
      "Total price:      178.0 ₪ (limit was [75, 100, 60] ₪)\n",
      "\n",
      "--------------------------------------------------\n",
      "גרין נודלס רידיפיין 🌱 - 62.0 ₪\n"
     ]
    },
    {
     "data": {
      "text/html": [
       "<img src=\"https://wolt-menu-images-cdn.wolt.com/menu-images/5e009f3ca3187549b414d70a/e3b5f214-79f7-11ec-a8d2-52e26c61abd2_greenredefin.jpeg\" width=\"400\" height=\"400\"/>"
      ],
      "text/plain": [
       "<IPython.core.display.Image object>"
      ]
     },
     "metadata": {},
     "output_type": "display_data"
    },
    {
     "name": "stdout",
     "output_type": "stream",
     "text": [
      "price: ✅ vegetarian: ✅ GF: ✅ spicy: ✅ alcohol: ✅\n",
      "--------------------------------------------------\n",
      "--------------------------------------------------\n",
      "‫קונג פאו נודלס ללא גלוטן 🌾  🌶🌶 - 57.0 ₪\n"
     ]
    },
    {
     "data": {
      "text/html": [
       "<img src=\"https://wolt-menu-images-cdn.wolt.com/menu-images/5e009f3ca3187549b414d70a/8c727ca0-79f9-11ec-8bd0-2a4c25d7ac88_kongpha_nogluten_12.jpeg\" width=\"400\" height=\"400\"/>"
      ],
      "text/plain": [
       "<IPython.core.display.Image object>"
      ]
     },
     "metadata": {},
     "output_type": "display_data"
    },
    {
     "name": "stdout",
     "output_type": "stream",
     "text": [
      "price: ✅ vegetarian: ✅ GF: ✅ spicy: ✅ alcohol: ✅\n",
      "--------------------------------------------------\n",
      "--------------------------------------------------\n",
      "‫שנחאי נודלס 🌶🌶 - 59.0 ₪\n"
     ]
    },
    {
     "data": {
      "text/html": [
       "<img src=\"https://wolt-menu-images-cdn.wolt.com/menu-images/91e58a7a-2a36-11ea-9182-0a5864600ef2______.jpeg\" width=\"400\" height=\"400\"/>"
      ],
      "text/plain": [
       "<IPython.core.display.Image object>"
      ]
     },
     "metadata": {},
     "output_type": "display_data"
    },
    {
     "name": "stdout",
     "output_type": "stream",
     "text": [
      "price: ✅ vegetarian: ✅ GF: ✅ spicy: ✅ alcohol: ✅\n",
      "--------------------------------------------------\n",
      "\n",
      "Evolution Plot:\n"
     ]
    },
    {
     "data": {
      "text/plain": [
       "<AxesSubplot:>"
      ]
     },
     "execution_count": 18,
     "metadata": {},
     "output_type": "execute_result"
    },
    {
     "data": {
      "image/png": "[encoded data removed]",
      "text/plain": [
       "<Figure size 640x480 with 1 Axes>"
      ]
     },
     "metadata": {},
     "output_type": "display_data"
    }
   ],
   "source": [
    "best_fitness = -np.inf\n",
    "best_solution = np.nan\n",
    "best_res = []\n",
    "best_database = np.nan\n",
    "\n",
    "found = False\n",
    "\n",
    "combinations = 0\n",
    "for _, df in groups:\n",
    "    combinations += (df.shape[0] ** user_input['people'])\n",
    "\n",
    "print(f'------- Searching space of size {combinations} -------\\n')\n",
    "\n",
    "start = time.time()\n",
    "for restaurant, database in groups:\n",
    "    print('...', end='')\n",
    "    rest_input = rest_df.loc[restaurant]\n",
    "    if rest_input.kosher != user_input['kosher']:\n",
    "        continue\n",
    "    if rest_input.rating < user_input[\"min_rating\"]:\n",
    "        continue\n",
    "    \n",
    "    database.reset_index(inplace=True, drop=True)\n",
    "    res = []\n",
    "\n",
    "    # choose run params:\n",
    "    ga_instance = pygad.GA(num_generations         = 1000,\n",
    "                           num_parents_mating      = 20,\n",
    "                           sol_per_pop             = 30,\n",
    "                           num_genes               = user_input['people'],\n",
    "\n",
    "                           init_range_low          = 0,\n",
    "                           init_range_high         = len(database),\n",
    "\n",
    "                           random_mutation_min_val = 0,\n",
    "                           random_mutation_max_val = len(database),\n",
    "\n",
    "                           mutation_by_replacement = True,\n",
    "                           mutation_num_genes      = 1,\n",
    "                           mutation_probability    = 0.1,\n",
    "\n",
    "                           gene_type               = int,\n",
    "                           fitness_func            = fitness_function,\n",
    "                          )\n",
    "\n",
    "    # run:\n",
    "    ga_instance.run()\n",
    "\n",
    "    # print solution:\n",
    "    solution, fitness, i = ga_instance.best_solution()\n",
    "    \n",
    "    if fitness > best_fitness:\n",
    "        best_fitness = fitness\n",
    "        best_res = res.copy()\n",
    "        best_solution = solution\n",
    "        best_database = database.copy()\n",
    "        print(f'\\nbest fitness updated to {round(best_fitness, 3)}', end='')\n",
    "        if (not found) and (best_fitness > 0.5):\n",
    "            initial = time.time()\n",
    "            print(f\"---> a solution was found ! 🏆 ({round(initial - start, 3)}s)\")\n",
    "            found = True\n",
    "        else: print()\n",
    "\n",
    "end = time.time()\n",
    "best_solution = [best_database.iloc[i] for i in best_solution]\n",
    "\n",
    "print(f'total time {round(end-start,3)}s')\n",
    "print(f'\\n----------------- Best solution ------------------\\n')\n",
    "print(f'Fitness:          {best_fitness}')\n",
    "print(f'Hard constraints: {\"🏆\" if best_fitness > 0.5 else \"🛑\"}')\n",
    "print(f'Total price:      {sum([dish[\"price\"] for dish in best_solution])} ₪ (limit was {user_input[\"price\"]} ₪)')\n",
    "print()\n",
    "[print_dish(best_solution, user_input, i) for i in range(len(best_solution))]\n",
    "\n",
    "print()\n",
    "print('Evolution Plot:')\n",
    "pd.Series(best_res).plot()\n",
    "pd.Series(best_res).rolling(window=100).mean().plot()\n",
    "pd.Series(np.ones(len(best_res)) * 0.5).plot(style='--')\n",
    "\n"
   ]
  },
  {
   "cell_type": "code",
   "execution_count": 20,
   "id": "c5b88c10",
   "metadata": {},
   "outputs": [
    {
     "name": "stdout",
     "output_type": "stream",
     "text": [
      "------- Searching space of size 30676897 -------\n",
      "\n",
      "...\n",
      "best fitness updated to 0.382\n",
      "...\n",
      "best fitness updated to 0.456\n",
      "..............................................................................................................................................................................................................................................................................................................................................................................................................................................................................................................................................................................................................................................................................................................................................................................................................................\n",
      "best fitness updated to 0.458\n",
      ".................................................................................\n",
      "best fitness updated to 0.465\n",
      "................................................total time 153.961s\n",
      "\n",
      "----------------- Best solution ------------------\n",
      "\n",
      "Fitness:          0.465\n",
      "Hard constraints: 🛑\n",
      "Total price:      177.0 ₪ (limit was [60, 60, 60] ₪)\n",
      "\n",
      "--------------------------------------------------\n",
      "קארי נודלס רידיפיין 🌱 🌶 - 59.0 ₪\n"
     ]
    },
    {
     "data": {
      "text/html": [
       "<img src=\"https://wolt-menu-images-cdn.wolt.com/menu-images/5e009f3ca3187549b414d70a/cf6bd5ee-79f7-11ec-9ffe-deee353b9376_caryredifine.jpeg\" width=\"400\" height=\"400\"/>"
      ],
      "text/plain": [
       "<IPython.core.display.Image object>"
      ]
     },
     "metadata": {},
     "output_type": "display_data"
    },
    {
     "name": "stdout",
     "output_type": "stream",
     "text": [
      "price: ✅ vegetarian: ✅ GF: ✅ spicy: ✅ alcohol: ✅\n",
      "--------------------------------------------------\n",
      "--------------------------------------------------\n",
      "פאד תאי נודלס רידיפיין 🌱 - 59.0 ₪\n"
     ]
    },
    {
     "data": {
      "text/html": [
       "<img src=\"https://wolt-menu-images-cdn.wolt.com/menu-images/5e009f3ca3187549b414d70a/c5b9f522-79f6-11ec-ba22-6e886fd8edc6_padthairedefine.jpeg\" width=\"400\" height=\"400\"/>"
      ],
      "text/plain": [
       "<IPython.core.display.Image object>"
      ]
     },
     "metadata": {},
     "output_type": "display_data"
    },
    {
     "name": "stdout",
     "output_type": "stream",
     "text": [
      "price: ✅ vegetarian: ✅ GF: ✅ spicy: ✅ alcohol: ✅\n",
      "--------------------------------------------------\n",
      "--------------------------------------------------\n",
      "קארי נודלס רידיפיין 🌱 🌶 - 59.0 ₪\n"
     ]
    },
    {
     "data": {
      "text/html": [
       "<img src=\"https://wolt-menu-images-cdn.wolt.com/menu-images/5e009f3ca3187549b414d70a/cf6bd5ee-79f7-11ec-9ffe-deee353b9376_caryredifine.jpeg\" width=\"400\" height=\"400\"/>"
      ],
      "text/plain": [
       "<IPython.core.display.Image object>"
      ]
     },
     "metadata": {},
     "output_type": "display_data"
    },
    {
     "name": "stdout",
     "output_type": "stream",
     "text": [
      "price: ✅ vegetarian: ✅ GF: ❌ spicy: ✅ alcohol: ✅\n",
      "--------------------------------------------------\n",
      "\n",
      "Evolution Plot:\n"
     ]
    },
    {
     "data": {
      "text/plain": [
       "<AxesSubplot:>"
      ]
     },
     "execution_count": 20,
     "metadata": {},
     "output_type": "execute_result"
    },
    {
     "data": {
      "image/png": "[encoded data removed]",
      "text/plain": [
       "<Figure size 640x480 with 1 Axes>"
      ]
     },
     "metadata": {},
     "output_type": "display_data"
    }
   ],
   "source": [
    "best_fitness = -np.inf\n",
    "best_solution = np.nan\n",
    "best_res = []\n",
    "best_database = np.nan\n",
    "\n",
    "found = False\n",
    "\n",
    "combinations = 0\n",
    "for _, df in groups:\n",
    "    combinations += (df.shape[0] ** user_input['people'])\n",
    "\n",
    "print(f'------- Searching space of size {combinations} -------\\n')\n",
    "\n",
    "start = time.time()\n",
    "for restaurant, database in groups:\n",
    "    print('...', end='')\n",
    "    rest_input = rest_df.loc[restaurant]\n",
    "    if rest_input.kosher != user_input['kosher']:\n",
    "        continue\n",
    "    if rest_input.rating < user_input[\"min_rating\"]:\n",
    "        continue\n",
    "    \n",
    "    database.reset_index(inplace=True, drop=True)\n",
    "    res = []\n",
    "\n",
    "    # choose run params:\n",
    "    ga_instance = pygad.GA(num_generations         = 1000,\n",
    "                           num_parents_mating      = 20,\n",
    "                           sol_per_pop             = 30,\n",
    "                           num_genes               = user_input['people'],\n",
    "\n",
    "                           init_range_low          = 0,\n",
    "                           init_range_high         = len(database),\n",
    "\n",
    "                           random_mutation_min_val = 0,\n",
    "                           random_mutation_max_val = len(database),\n",
    "\n",
    "                           mutation_by_replacement = True,\n",
    "                           mutation_num_genes      = 1,\n",
    "                           mutation_probability    = 0.1,\n",
    "\n",
    "                           gene_type               = int,\n",
    "                           fitness_func            = fitness_function,\n",
    "                          )\n",
    "\n",
    "    # run:\n",
    "    ga_instance.run()\n",
    "\n",
    "    # print solution:\n",
    "    solution, fitness, i = ga_instance.best_solution()\n",
    "    \n",
    "    if fitness > best_fitness:\n",
    "        best_fitness = fitness\n",
    "        best_res = res.copy()\n",
    "        best_solution = solution\n",
    "        best_database = database.copy()\n",
    "        print(f'\\nbest fitness updated to {round(best_fitness, 3)}', end='')\n",
    "        if (not found) and (best_fitness > 0.5):\n",
    "            initial = time.time()\n",
    "            print(f\"---> a solution was found ! 🏆 ({round(initial - start, 3)}s)\")\n",
    "            found = True\n",
    "        else: print()\n",
    "\n",
    "end = time.time()\n",
    "best_solution = [best_database.iloc[i] for i in best_solution]\n",
    "\n",
    "print(f'total time {round(end-start,3)}s')\n",
    "print(f'\\n----------------- Best solution ------------------\\n')\n",
    "print(f'Fitness:          {best_fitness}')\n",
    "print(f'Hard constraints: {\"🏆\" if best_fitness > 0.5 else \"🛑\"}')\n",
    "print(f'Total price:      {sum([dish[\"price\"] for dish in best_solution])} ₪ (limit was {user_input[\"price\"]} ₪)')\n",
    "print()\n",
    "[print_dish(best_solution, user_input, i) for i in range(len(best_solution))]\n",
    "\n",
    "print()\n",
    "print('Evolution Plot:')\n",
    "pd.Series(best_res).plot()\n",
    "pd.Series(best_res).rolling(window=100).mean().plot()\n",
    "pd.Series(np.ones(len(best_res)) * 0.5).plot(style='--')\n",
    "\n",
    "\n"
   ]
  },
  {
   "cell_type": "code",
   "execution_count": 44,
   "id": "9dad8215",
   "metadata": {},
   "outputs": [],
   "source": [
    "from LossFunc import loss, user_inputs_to_loss_function_inputs\n",
    "from main import get_diners_constraints\n"
   ]
  },
  {
   "cell_type": "code",
   "execution_count": 46,
   "id": "6c047713",
   "metadata": {},
   "outputs": [
    {
     "data": {
      "text/plain": [
       "([1, 0, 0, 0, 0, 90, 7, 0, [\"'burger',\", \"'meat'\"], 'monday'],\n",
       " [1, 1, 0, 1, 0, 80, 9, 1, [\"'bagel',\", \"'thai'\"], 'monday'],\n",
       " [0, 0, 0, 0, 1, 100, 7, 1, [\"'salad','thai'\"], 'monday'])"
      ]
     },
     "execution_count": 46,
     "metadata": {},
     "output_type": "execute_result"
    }
   ],
   "source": [
    "c = get_diners_constraints('./diners_input_constarints/input_constraints_2.txt')"
   ]
  },
  {
   "cell_type": "code",
   "execution_count": 63,
   "id": "3c1a0a7a",
   "metadata": {},
   "outputs": [],
   "source": [
    "d = pd.read_csv('./data/csv_wolt_restaurants_21-8-22.csv')\n",
    "d = d[d.name == best_solution[0].rest_name]"
   ]
  },
  {
   "cell_type": "code",
   "execution_count": 69,
   "id": "179bae61",
   "metadata": {},
   "outputs": [
    {
     "ename": "AttributeError",
     "evalue": "'numpy.float64' object has no attribute 'values'",
     "output_type": "error",
     "traceback": [
      "\u001b[0;31m---------------------------------------------------------------------------\u001b[0m",
      "\u001b[0;31mAttributeError\u001b[0m                            Traceback (most recent call last)",
      "Input \u001b[0;32mIn [69]\u001b[0m, in \u001b[0;36m<cell line: 1>\u001b[0;34m()\u001b[0m\n\u001b[0;32m----> 1\u001b[0m loss(\u001b[43muser_inputs_to_loss_function_inputs\u001b[49m\u001b[43m(\u001b[49m\u001b[43mpd\u001b[49m\u001b[38;5;241;43m.\u001b[39;49m\u001b[43mSeries\u001b[49m\u001b[43m(\u001b[49m\u001b[43mc\u001b[49m\u001b[43m[\u001b[49m\u001b[38;5;241;43m0\u001b[39;49m\u001b[43m]\u001b[49m\u001b[43m)\u001b[49m\u001b[43m,\u001b[49m\n\u001b[1;32m      2\u001b[0m \u001b[43m                                         \u001b[49m\u001b[43mpd\u001b[49m\u001b[38;5;241;43m.\u001b[39;49m\u001b[43mSeries\u001b[49m\u001b[43m(\u001b[49m\u001b[43mc\u001b[49m\u001b[43m[\u001b[49m\u001b[38;5;241;43m1\u001b[39;49m\u001b[43m]\u001b[49m\u001b[43m)\u001b[49m\u001b[43m,\u001b[49m\n\u001b[1;32m      3\u001b[0m \u001b[43m                                         \u001b[49m\u001b[43mpd\u001b[49m\u001b[38;5;241;43m.\u001b[39;49m\u001b[43mSeries\u001b[49m\u001b[43m(\u001b[49m\u001b[43mc\u001b[49m\u001b[43m[\u001b[49m\u001b[38;5;241;43m2\u001b[39;49m\u001b[43m]\u001b[49m\u001b[43m)\u001b[49m\u001b[43m,\u001b[49m\n\u001b[1;32m      4\u001b[0m \u001b[43m                                         \u001b[49m\u001b[43md\u001b[49m\u001b[43m,\u001b[49m\n\u001b[1;32m      5\u001b[0m \u001b[43m                                         \u001b[49m\u001b[43mpd\u001b[49m\u001b[38;5;241;43m.\u001b[39;49m\u001b[43mSeries\u001b[49m\u001b[43m(\u001b[49m\u001b[43mbest_solution\u001b[49m\u001b[43m[\u001b[49m\u001b[38;5;241;43m0\u001b[39;49m\u001b[43m]\u001b[49m\u001b[43m)\u001b[49m\u001b[43m,\u001b[49m\n\u001b[1;32m      6\u001b[0m \u001b[43m                                         \u001b[49m\u001b[43mpd\u001b[49m\u001b[38;5;241;43m.\u001b[39;49m\u001b[43mSeries\u001b[49m\u001b[43m(\u001b[49m\u001b[43mbest_solution\u001b[49m\u001b[43m[\u001b[49m\u001b[38;5;241;43m0\u001b[39;49m\u001b[43m]\u001b[49m\u001b[43m)\u001b[49m\u001b[43m,\u001b[49m\n\u001b[1;32m      7\u001b[0m \u001b[43m                                         \u001b[49m\u001b[43mpd\u001b[49m\u001b[38;5;241;43m.\u001b[39;49m\u001b[43mSeries\u001b[49m\u001b[43m(\u001b[49m\u001b[43mbest_solution\u001b[49m\u001b[43m[\u001b[49m\u001b[38;5;241;43m0\u001b[39;49m\u001b[43m]\u001b[49m\u001b[43m)\u001b[49m\u001b[43m)\u001b[49m)\n",
      "File \u001b[0;32m~/Documents/courses/second_year/ai/final/GroupWoltOptimizer/LossFunc.py:34\u001b[0m, in \u001b[0;36muser_inputs_to_loss_function_inputs\u001b[0;34m(diner1_inputs, diner2_inputs, diner3_inputs, rest, meal1_df, meal2_df, meal3_df)\u001b[0m\n\u001b[1;32m     31\u001b[0m diner3_cui \u001b[38;5;241m=\u001b[39m \u001b[38;5;241m1\u001b[39m \u001b[38;5;28;01mif\u001b[39;00m \u001b[38;5;28mlen\u001b[39m([meal \u001b[38;5;28;01mfor\u001b[39;00m meal \u001b[38;5;129;01min\u001b[39;00m cuisines3 \u001b[38;5;28;01mif\u001b[39;00m meal \u001b[38;5;129;01min\u001b[39;00m rest_cuisines]) \u001b[38;5;241m>\u001b[39m \u001b[38;5;241m0\u001b[39m \u001b[38;5;28;01melse\u001b[39;00m \u001b[38;5;241m0\u001b[39m\n\u001b[1;32m     33\u001b[0m O \u001b[38;5;241m=\u001b[39m \u001b[38;5;241m1\u001b[39m \u001b[38;5;28;01mif\u001b[39;00m weekday \u001b[38;5;129;01min\u001b[39;00m rest[\u001b[38;5;124m'\u001b[39m\u001b[38;5;124mopening days\u001b[39m\u001b[38;5;124m'\u001b[39m]\u001b[38;5;241m.\u001b[39mvalues[\u001b[38;5;241m0\u001b[39m] \u001b[38;5;28;01melse\u001b[39;00m \u001b[38;5;241m0\u001b[39m\n\u001b[0;32m---> 34\u001b[0m M \u001b[38;5;241m=\u001b[39m \u001b[38;5;241m1\u001b[39m \u001b[38;5;28;01mif\u001b[39;00m ((\u001b[43mmeal1_df\u001b[49m\u001b[43m[\u001b[49m\u001b[38;5;124;43m'\u001b[39;49m\u001b[38;5;124;43mprice\u001b[39;49m\u001b[38;5;124;43m'\u001b[39;49m\u001b[43m]\u001b[49m\u001b[38;5;241;43m.\u001b[39;49m\u001b[43mvalues\u001b[49m[\u001b[38;5;241m0\u001b[39m] \u001b[38;5;241m+\u001b[39m meal2_df[\u001b[38;5;124m'\u001b[39m\u001b[38;5;124mprice\u001b[39m\u001b[38;5;124m'\u001b[39m]\u001b[38;5;241m.\u001b[39mvalues[\u001b[38;5;241m0\u001b[39m] \u001b[38;5;241m+\u001b[39m meal3_df[\u001b[38;5;124m'\u001b[39m\u001b[38;5;124mprice\u001b[39m\u001b[38;5;124m'\u001b[39m]\u001b[38;5;241m.\u001b[39mvalues[\u001b[38;5;241m0\u001b[39m]) \u001b[38;5;241m>\u001b[39m\u001b[38;5;241m=\u001b[39m \u001b[38;5;241m100\u001b[39m) \u001b[38;5;28;01melse\u001b[39;00m \u001b[38;5;241m0\u001b[39m  \u001b[38;5;66;03m# TODO replace with order min\u001b[39;00m\n\u001b[1;32m     35\u001b[0m K \u001b[38;5;241m=\u001b[39m \u001b[38;5;241m0\u001b[39m \u001b[38;5;28;01mif\u001b[39;00m diners_kosher \u001b[38;5;129;01mand\u001b[39;00m \u001b[38;5;129;01mnot\u001b[39;00m rest[\u001b[38;5;124m'\u001b[39m\u001b[38;5;124mkosher\u001b[39m\u001b[38;5;124m'\u001b[39m]\u001b[38;5;241m.\u001b[39mvalues[\u001b[38;5;241m0\u001b[39m] \u001b[38;5;28;01melse\u001b[39;00m \u001b[38;5;241m1\u001b[39m\n\u001b[1;32m     36\u001b[0m DT \u001b[38;5;241m=\u001b[39m rest[\u001b[38;5;124m'\u001b[39m\u001b[38;5;124mdelivery estimation [minutes]\u001b[39m\u001b[38;5;124m'\u001b[39m]\u001b[38;5;241m.\u001b[39mvalues[\u001b[38;5;241m0\u001b[39m] \u001b[38;5;241m+\u001b[39m rest[\u001b[38;5;124m'\u001b[39m\u001b[38;5;124mprep estimation [minutes]\u001b[39m\u001b[38;5;124m'\u001b[39m]\u001b[38;5;241m.\u001b[39mvalues[\u001b[38;5;241m0\u001b[39m]\n",
      "\u001b[0;31mAttributeError\u001b[0m: 'numpy.float64' object has no attribute 'values'"
     ]
    }
   ],
   "source": [
    "loss(user_inputs_to_loss_function_inputs(pd.Series(c[0]),\n",
    "                                         pd.Series(c[1]),\n",
    "                                         pd.Series(c[2]),\n",
    "                                         d,\n",
    "                                         pd.Series(best_solution[0]),\n",
    "                                         pd.Series(best_solution[0]),\n",
    "                                         pd.Series(best_solution[0])))"
   ]
  },
  {
   "cell_type": "code",
   "execution_count": 22,
   "id": "60163460",
   "metadata": {},
   "outputs": [
    {
     "name": "stdout",
     "output_type": "stream",
     "text": [
      "------- Searching space of size 30676897 -------\n",
      "\n",
      "...\n",
      "best fitness updated to 0.362\n",
      "...............\n",
      "best fitness updated to 0.394\n",
      ".........\n",
      "best fitness updated to 0.449\n",
      "....................................................................................................................................\n",
      "best fitness updated to 0.451\n",
      ".................................................................................\n",
      "best fitness updated to 0.457\n",
      "......................................................................................."
     ]
    },
    {
     "name": "stderr",
     "output_type": "stream",
     "text": [
      "\n",
      "KeyboardInterrupt\n",
      "\n"
     ]
    }
   ],
   "source": [
    "best_fitness = -np.inf\n",
    "best_solution = np.nan\n",
    "best_res = []\n",
    "best_database = np.nan\n",
    "\n",
    "found = False\n",
    "\n",
    "combinations = 0\n",
    "for _, df in groups:\n",
    "    combinations += (df.shape[0] ** user_input['people'])\n",
    "\n",
    "print(f'------- Searching space of size {combinations} -------\\n')\n",
    "\n",
    "start = time.time()\n",
    "for restaurant, database in groups:\n",
    "    print('...', end='')\n",
    "    rest_input = rest_df.loc[restaurant]\n",
    "    if rest_input.kosher != user_input['kosher']:\n",
    "        continue\n",
    "    if rest_input.rating < user_input[\"min_rating\"]:\n",
    "        continue\n",
    "    \n",
    "    database.reset_index(inplace=True, drop=True)\n",
    "    res = []\n",
    "\n",
    "    # choose run params:\n",
    "    ga_instance = pygad.GA(num_generations         = 1000,\n",
    "                           num_parents_mating      = 20,\n",
    "                           sol_per_pop             = 30,\n",
    "                           num_genes               = user_input['people'],\n",
    "\n",
    "                           init_range_low          = 0,\n",
    "                           init_range_high         = len(database),\n",
    "\n",
    "                           random_mutation_min_val = 0,\n",
    "                           random_mutation_max_val = len(database),\n",
    "\n",
    "                           mutation_by_replacement = True,\n",
    "                           mutation_num_genes      = 1,\n",
    "                           mutation_probability    = 0.1,\n",
    "\n",
    "                           gene_type               = int,\n",
    "                           fitness_func            = fitness_function,\n",
    "                          )\n",
    "\n",
    "    # run:\n",
    "    ga_instance.run()\n",
    "\n",
    "    # print solution:\n",
    "    solution, fitness, i = ga_instance.best_solution()\n",
    "    \n",
    "    if fitness > best_fitness:\n",
    "        best_fitness = fitness\n",
    "        best_res = res.copy()\n",
    "        best_solution = solution\n",
    "        best_database = database.copy()\n",
    "        print(f'\\nbest fitness updated to {round(best_fitness, 3)}', end='')\n",
    "        if (not found) and (best_fitness > 0.5):\n",
    "            initial = time.time()\n",
    "            print(f\"---> a solution was found ! 🏆 ({round(initial - start, 3)}s)\")\n",
    "            found = True\n",
    "        else: print()\n",
    "\n",
    "end = time.time()\n",
    "best_solution = [best_database.iloc[i] for i in best_solution]\n",
    "\n",
    "print(f'total time {round(end-start,3)}s')\n",
    "print(f'\\n----------------- Best solution ------------------\\n')\n",
    "print(f'Fitness:          {best_fitness}')\n",
    "print(f'Hard constraints: {\"🏆\" if best_fitness > 0.5 else \"🛑\"}')\n",
    "print(f'Total price:      {sum([dish[\"price\"] for dish in best_solution])} ₪ (limit was {user_input[\"price\"]} ₪)')\n",
    "print()\n",
    "[print_dish(best_solution, user_input, i) for i in range(len(best_solution))]\n",
    "\n",
    "print()\n",
    "print('Evolution Plot:')\n",
    "pd.Series(best_res).plot()\n",
    "pd.Series(best_res).rolling(window=100).mean().plot()\n",
    "pd.Series(np.ones(len(best_res)) * 0.5).plot(style='--')\n",
    "\n",
    "\n"
   ]
  }
 ],
 "metadata": {
  "kernelspec": {
   "display_name": "Python 3 (ipykernel)",
   "language": "python",
   "name": "python3"
  },
  "language_info": {
   "codemirror_mode": {
    "name": "ipython",
    "version": 3
   },
   "file_extension": ".py",
   "mimetype": "text/x-python",
   "name": "python",
   "nbconvert_exporter": "python",
   "pygments_lexer": "ipython3",
   "version": "3.9.13"
  },
  "varInspector": {
   "cols": {
    "lenName": 16,
    "lenType": 16,
    "lenVar": 40
   },
   "kernels_config": {
    "python": {
     "delete_cmd_postfix": "",
     "delete_cmd_prefix": "del ",
     "library": "var_list.py",
     "varRefreshCmd": "print(var_dic_list())"
    },
    "r": {
     "delete_cmd_postfix": ") ",
     "delete_cmd_prefix": "rm(",
     "library": "var_list.r",
     "varRefreshCmd": "cat(var_dic_list()) "
    }
   },
   "types_to_exclude": [
    "module",
    "function",
    "builtin_function_or_method",
    "instance",
    "_Feature"
   ],
   "window_display": false
  }
 },
 "nbformat": 4,
 "nbformat_minor": 5
}
