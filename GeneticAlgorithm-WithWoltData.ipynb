{
 "cells": [
  {
   "cell_type": "markdown",
   "id": "0cc0b675",
   "metadata": {},
   "source": [
    "# POC for Genetic Algorithm WOLT"
   ]
  },
  {
   "cell_type": "markdown",
   "id": "d65f96d3",
   "metadata": {},
   "source": [
    "### Imports"
   ]
  },
  {
   "cell_type": "code",
   "execution_count": 1,
   "id": "895b7217",
   "metadata": {},
   "outputs": [],
   "source": [
    "import pygad\n",
    "import numpy as np\n",
    "import pandas as pd\n",
    "from IPython.display import Image, display"
   ]
  },
  {
   "cell_type": "markdown",
   "id": "3c8d7f3a",
   "metadata": {},
   "source": [
    "### helper functions:"
   ]
  },
  {
   "cell_type": "code",
   "execution_count": 2,
   "id": "4bd83330",
   "metadata": {},
   "outputs": [],
   "source": [
    "NO_IMAGE_URL = 'https://upload.wikimedia.org/wikipedia/commons/thumb/a/ac/No_image_available.svg/1024px-No_image_available.svg.png'"
   ]
  },
  {
   "cell_type": "code",
   "execution_count": 3,
   "id": "96c37b80",
   "metadata": {},
   "outputs": [],
   "source": [
    "def print_dish(dish):\n",
    "    print('-' * 50)\n",
    "    print(f'{dish[\"name\"]} - {dish[\"price\"]} ₪')\n",
    "    \n",
    "    if type(dish[\"image\"]) == str:\n",
    "        display(Image(url=dish[\"image\"], width=400, height=400))\n",
    "    else:\n",
    "        display(Image(url=NO_IMAGE_URL, width=200, height=200))\n",
    "\n",
    "    print(f'vegetarian: {\"✅\" if dish[\"vegetarian\"] else \"❌\"}', end=' ')\n",
    "    print(f'GF: {\"✅\" if dish[\"GF\"] else \"❌\"}', end=' ')\n",
    "    print(f'spicy: {\"✅\" if dish[\"spicy\"] else \"❌\"}', end=' ')\n",
    "    print(f'alcohol_percentage: {\"✅\" if dish[\"alcohol_percentage\"] else \"❌\"}')\n",
    "    print('-' * 50)\n"
   ]
  },
  {
   "cell_type": "code",
   "execution_count": 4,
   "id": "a57f5164",
   "metadata": {},
   "outputs": [],
   "source": [
    "def get_user_input(people=4, price=200, vegetarian=None, GF=None, spicy=None, alcohol_percentage=None):\n",
    "    return dict(people   = people,\n",
    "                price    = 80 * people if not price else price,\n",
    "                vegetarian    = np.zeros(people).astype(bool) if not vegetarian    else np.array(vegetarian   ).astype(bool),\n",
    "                GF   = np.zeros(people).astype(bool) if not GF   else np.array(GF  ).astype(bool),\n",
    "                spicy    = np.zeros(people).astype(bool) if not spicy    else np.array(spicy   ).astype(bool),\n",
    "                alcohol_percentage = np.zeros(people).astype(bool) if not alcohol_percentage else np.array(alcohol_percentage).astype(bool))"
   ]
  },
  {
   "cell_type": "markdown",
   "id": "1b594984",
   "metadata": {},
   "source": [
    "### Loss (fitness) function:"
   ]
  },
  {
   "cell_type": "code",
   "execution_count": 5,
   "id": "482c0340",
   "metadata": {},
   "outputs": [],
   "source": [
    "def fitness_function(solution, solution_idx):\n",
    "    solution = [database.iloc[i] for i in solution]\n",
    "\n",
    "    total_price = sum([dish['price'] for dish in solution])\n",
    "    price_const =  total_price < user_input['price']\n",
    "    \n",
    "    vegetarian_const = [dish['vegetarian'] == inp for (dish, inp) in zip(solution, user_input['vegetarian'])]    \n",
    "    GF_const = [dish['GF'] == inp for (dish, inp) in zip(solution, user_input['GF'])]    \n",
    "    spicy_const = [dish['spicy'] == inp for (dish, inp) in zip(solution, user_input['spicy'])]    \n",
    "    alcohol_percentage_const = [(dish['alcohol_percentage'] > 0) == inp for (dish, inp) in zip(solution, user_input['alcohol_percentage'])]  \n",
    "    \n",
    "    hard_const = all([price_const,\n",
    "                      all(vegetarian_const),\n",
    "                      all(GF_const),\n",
    "                      all(spicy_const),\n",
    "                      all(alcohol_percentage_const)])\n",
    "    \n",
    "    soft_price = (user_input['price'] - total_price) / user_input['price']\n",
    "    soft_const = np.mean([soft_price,\n",
    "                          sum(vegetarian_const)    / user_input['people'], \n",
    "                          sum(GF_const)   / user_input['people'],\n",
    "                          sum(spicy_const)    / user_input['people'],\n",
    "                          sum(alcohol_percentage_const) / user_input['people'],\n",
    "                         ])\n",
    "    fitness = np.mean([int(hard_const), soft_const])\n",
    "    res.append(fitness)\n",
    "\n",
    "    return fitness"
   ]
  },
  {
   "cell_type": "markdown",
   "id": "d88b45f0",
   "metadata": {},
   "source": [
    "### Initialize"
   ]
  },
  {
   "cell_type": "code",
   "execution_count": 6,
   "id": "f383e027",
   "metadata": {},
   "outputs": [],
   "source": [
    "res = []"
   ]
  },
  {
   "cell_type": "code",
   "execution_count": 7,
   "id": "f91e7a2f",
   "metadata": {},
   "outputs": [
    {
     "data": {
      "text/html": [
       "<div>\n",
       "<style scoped>\n",
       "    .dataframe tbody tr th:only-of-type {\n",
       "        vertical-align: middle;\n",
       "    }\n",
       "\n",
       "    .dataframe tbody tr th {\n",
       "        vertical-align: top;\n",
       "    }\n",
       "\n",
       "    .dataframe thead th {\n",
       "        text-align: right;\n",
       "    }\n",
       "</style>\n",
       "<table border=\"1\" class=\"dataframe\">\n",
       "  <thead>\n",
       "    <tr style=\"text-align: right;\">\n",
       "      <th></th>\n",
       "      <th>rest_name</th>\n",
       "      <th>name</th>\n",
       "      <th>price</th>\n",
       "      <th>alcohol_percentage</th>\n",
       "      <th>vegetarian</th>\n",
       "      <th>GF</th>\n",
       "      <th>image</th>\n",
       "      <th>days</th>\n",
       "      <th>spicy</th>\n",
       "    </tr>\n",
       "  </thead>\n",
       "  <tbody>\n",
       "    <tr>\n",
       "      <th>0</th>\n",
       "      <td>Doron's Jachnun | Tel Aviv</td>\n",
       "      <td>ג׳חנון תימני עצבני</td>\n",
       "      <td>25.0</td>\n",
       "      <td>0</td>\n",
       "      <td>False</td>\n",
       "      <td>False</td>\n",
       "      <td>https://wolt-menu-images-cdn.wolt.com/menu-ima...</td>\n",
       "      <td>[1, 2, 3, 4, 5, 6, 7]</td>\n",
       "      <td>False</td>\n",
       "    </tr>\n",
       "    <tr>\n",
       "      <th>1</th>\n",
       "      <td>Taqueria</td>\n",
       "      <td>‫מרגריטה ליים קפואה</td>\n",
       "      <td>30.0</td>\n",
       "      <td>150</td>\n",
       "      <td>False</td>\n",
       "      <td>False</td>\n",
       "      <td>https://wolt-menu-images-cdn.wolt.com/menu-ima...</td>\n",
       "      <td>[1, 2, 3, 4, 5, 6, 7]</td>\n",
       "      <td>False</td>\n",
       "    </tr>\n",
       "    <tr>\n",
       "      <th>2</th>\n",
       "      <td>Taqueria</td>\n",
       "      <td>נאצ׳וס להכנה בתנור</td>\n",
       "      <td>45.0</td>\n",
       "      <td>0</td>\n",
       "      <td>False</td>\n",
       "      <td>False</td>\n",
       "      <td>https://wolt-menu-images-cdn.wolt.com/menu-ima...</td>\n",
       "      <td>[1, 2, 3, 4, 5, 6, 7]</td>\n",
       "      <td>False</td>\n",
       "    </tr>\n",
       "    <tr>\n",
       "      <th>3</th>\n",
       "      <td>Taqueria</td>\n",
       "      <td>🌶🌶 תירס הוואנה</td>\n",
       "      <td>21.0</td>\n",
       "      <td>0</td>\n",
       "      <td>False</td>\n",
       "      <td>False</td>\n",
       "      <td>https://wolt-menu-images-cdn.wolt.com/menu-ima...</td>\n",
       "      <td>[1, 2, 3, 4, 5, 6, 7]</td>\n",
       "      <td>True</td>\n",
       "    </tr>\n",
       "    <tr>\n",
       "      <th>4</th>\n",
       "      <td>Taqueria</td>\n",
       "      <td>🌶🌶🌶 כנפיים חריפות</td>\n",
       "      <td>34.0</td>\n",
       "      <td>0</td>\n",
       "      <td>False</td>\n",
       "      <td>False</td>\n",
       "      <td>https://wolt-menu-images-cdn.wolt.com/menu-ima...</td>\n",
       "      <td>[1, 2, 3, 4, 5, 6, 7]</td>\n",
       "      <td>True</td>\n",
       "    </tr>\n",
       "    <tr>\n",
       "      <th>...</th>\n",
       "      <td>...</td>\n",
       "      <td>...</td>\n",
       "      <td>...</td>\n",
       "      <td>...</td>\n",
       "      <td>...</td>\n",
       "      <td>...</td>\n",
       "      <td>...</td>\n",
       "      <td>...</td>\n",
       "      <td>...</td>\n",
       "    </tr>\n",
       "    <tr>\n",
       "      <th>125</th>\n",
       "      <td>JARS &amp; BOWLS</td>\n",
       "      <td>אגוז ברזיל</td>\n",
       "      <td>28.0</td>\n",
       "      <td>0</td>\n",
       "      <td>False</td>\n",
       "      <td>False</td>\n",
       "      <td>https://wolt-menu-images-cdn.wolt.com/menu-ima...</td>\n",
       "      <td>[1, 2, 3, 4, 5, 6, 7]</td>\n",
       "      <td>False</td>\n",
       "    </tr>\n",
       "    <tr>\n",
       "      <th>126</th>\n",
       "      <td>JARS &amp; BOWLS</td>\n",
       "      <td>אוכמניות ללא סוכר</td>\n",
       "      <td>42.0</td>\n",
       "      <td>0</td>\n",
       "      <td>False</td>\n",
       "      <td>False</td>\n",
       "      <td>https://wolt-menu-images-cdn.wolt.com/menu-ima...</td>\n",
       "      <td>[1, 2, 3, 4, 5, 6, 7]</td>\n",
       "      <td>False</td>\n",
       "    </tr>\n",
       "    <tr>\n",
       "      <th>127</th>\n",
       "      <td>JARS &amp; BOWLS</td>\n",
       "      <td>אננס טבעי ללא סוכר</td>\n",
       "      <td>26.0</td>\n",
       "      <td>0</td>\n",
       "      <td>False</td>\n",
       "      <td>False</td>\n",
       "      <td>https://wolt-menu-images-cdn.wolt.com/menu-ima...</td>\n",
       "      <td>[1, 2, 3, 4, 5, 6, 7]</td>\n",
       "      <td>False</td>\n",
       "    </tr>\n",
       "    <tr>\n",
       "      <th>128</th>\n",
       "      <td>JARS &amp; BOWLS</td>\n",
       "      <td>גוג׳י ברי</td>\n",
       "      <td>22.0</td>\n",
       "      <td>0</td>\n",
       "      <td>False</td>\n",
       "      <td>False</td>\n",
       "      <td>https://wolt-menu-images-cdn.wolt.com/menu-ima...</td>\n",
       "      <td>[1, 2, 3, 4, 5, 6, 7]</td>\n",
       "      <td>False</td>\n",
       "    </tr>\n",
       "    <tr>\n",
       "      <th>129</th>\n",
       "      <td>JARS &amp; BOWLS</td>\n",
       "      <td>תמר מג׳הול ענק</td>\n",
       "      <td>26.0</td>\n",
       "      <td>0</td>\n",
       "      <td>False</td>\n",
       "      <td>False</td>\n",
       "      <td>https://wolt-menu-images-cdn.wolt.com/menu-ima...</td>\n",
       "      <td>[1, 2, 3, 4, 5, 6, 7]</td>\n",
       "      <td>False</td>\n",
       "    </tr>\n",
       "  </tbody>\n",
       "</table>\n",
       "<p>130 rows × 9 columns</p>\n",
       "</div>"
      ],
      "text/plain": [
       "                      rest_name                 name  price  \\\n",
       "0    Doron's Jachnun | Tel Aviv   ג׳חנון תימני עצבני   25.0   \n",
       "1                      Taqueria  ‫מרגריטה ליים קפואה   30.0   \n",
       "2                      Taqueria   נאצ׳וס להכנה בתנור   45.0   \n",
       "3                      Taqueria       🌶🌶 תירס הוואנה   21.0   \n",
       "4                      Taqueria    🌶🌶🌶 כנפיים חריפות   34.0   \n",
       "..                          ...                  ...    ...   \n",
       "125                JARS & BOWLS           אגוז ברזיל   28.0   \n",
       "126                JARS & BOWLS    אוכמניות ללא סוכר   42.0   \n",
       "127                JARS & BOWLS   אננס טבעי ללא סוכר   26.0   \n",
       "128                JARS & BOWLS            גוג׳י ברי   22.0   \n",
       "129                JARS & BOWLS       תמר מג׳הול ענק   26.0   \n",
       "\n",
       "     alcohol_percentage  vegetarian     GF  \\\n",
       "0                     0       False  False   \n",
       "1                   150       False  False   \n",
       "2                     0       False  False   \n",
       "3                     0       False  False   \n",
       "4                     0       False  False   \n",
       "..                  ...         ...    ...   \n",
       "125                   0       False  False   \n",
       "126                   0       False  False   \n",
       "127                   0       False  False   \n",
       "128                   0       False  False   \n",
       "129                   0       False  False   \n",
       "\n",
       "                                                 image                   days  \\\n",
       "0    https://wolt-menu-images-cdn.wolt.com/menu-ima...  [1, 2, 3, 4, 5, 6, 7]   \n",
       "1    https://wolt-menu-images-cdn.wolt.com/menu-ima...  [1, 2, 3, 4, 5, 6, 7]   \n",
       "2    https://wolt-menu-images-cdn.wolt.com/menu-ima...  [1, 2, 3, 4, 5, 6, 7]   \n",
       "3    https://wolt-menu-images-cdn.wolt.com/menu-ima...  [1, 2, 3, 4, 5, 6, 7]   \n",
       "4    https://wolt-menu-images-cdn.wolt.com/menu-ima...  [1, 2, 3, 4, 5, 6, 7]   \n",
       "..                                                 ...                    ...   \n",
       "125  https://wolt-menu-images-cdn.wolt.com/menu-ima...  [1, 2, 3, 4, 5, 6, 7]   \n",
       "126  https://wolt-menu-images-cdn.wolt.com/menu-ima...  [1, 2, 3, 4, 5, 6, 7]   \n",
       "127  https://wolt-menu-images-cdn.wolt.com/menu-ima...  [1, 2, 3, 4, 5, 6, 7]   \n",
       "128  https://wolt-menu-images-cdn.wolt.com/menu-ima...  [1, 2, 3, 4, 5, 6, 7]   \n",
       "129  https://wolt-menu-images-cdn.wolt.com/menu-ima...  [1, 2, 3, 4, 5, 6, 7]   \n",
       "\n",
       "     spicy  \n",
       "0    False  \n",
       "1    False  \n",
       "2    False  \n",
       "3     True  \n",
       "4     True  \n",
       "..     ...  \n",
       "125  False  \n",
       "126  False  \n",
       "127  False  \n",
       "128  False  \n",
       "129  False  \n",
       "\n",
       "[130 rows x 9 columns]"
      ]
     },
     "execution_count": 7,
     "metadata": {},
     "output_type": "execute_result"
    }
   ],
   "source": [
    "# load database for a restaurant:\n",
    "total_df = pd.read_csv('./data/csv_wolt_menus_20-8-22.csv')\n",
    "total_df"
   ]
  },
  {
   "cell_type": "markdown",
   "id": "e9be914d",
   "metadata": {},
   "source": [
    "### User input:"
   ]
  },
  {
   "cell_type": "code",
   "execution_count": 8,
   "id": "1543b163",
   "metadata": {},
   "outputs": [
    {
     "data": {
      "text/plain": [
       "{'people': 4,\n",
       " 'price': 150,\n",
       " 'vegetarian': array([ True, False,  True,  True]),\n",
       " 'GF': array([False, False, False, False]),\n",
       " 'spicy': array([False,  True, False, False]),\n",
       " 'alcohol_percentage': array([False, False, False, False])}"
      ]
     },
     "execution_count": 8,
     "metadata": {},
     "output_type": "execute_result"
    }
   ],
   "source": [
    "user_input = get_user_input(people=4, price=150,\n",
    "                            vegetarian         = [1, 0, 1, 1],\n",
    "                            GF                 = [0, 0, 0, 0],\n",
    "                            spicy              = [0, 1, 0, 0],\n",
    "                            alcohol_percentage = [0, 0, 0, 0])\n",
    "user_input"
   ]
  },
  {
   "cell_type": "markdown",
   "id": "17c53b78",
   "metadata": {},
   "source": [
    "# Algorithm run:"
   ]
  },
  {
   "cell_type": "code",
   "execution_count": 9,
   "id": "e4b14bdd",
   "metadata": {
    "scrolled": false
   },
   "outputs": [
    {
     "name": "stdout",
     "output_type": "stream",
     "text": [
      "------- Searching space of size 6660754 -------\n",
      "\n",
      " - Testing: Doron's Jachnun | Tel Aviv combinations \n",
      "\t1 possible dishes\n",
      "\n",
      " - Testing: JARS & BOWLS combinations \n",
      "\t40 possible dishes\n",
      "\n",
      " - Testing: Karnaf | Ibn Gvirol combinations \n",
      "\t42 possible dishes\n",
      "\n",
      " - Testing: MeatBar Burger | Dizengoff Square combinations \n",
      "\t16 possible dishes\n",
      "\n",
      " - Testing: Taqueria combinations \n",
      "\t31 possible dishes\n",
      "\n",
      "\n",
      "----------------- Best solution ------------------\n",
      "\n",
      "Fitness:          0.9099999999999999\n",
      "Hard constraints: 🏆\n",
      "Total price:      135.0 ₪ (limit was 150 ₪)\n",
      "\n",
      "--------------------------------------------------\n",
      "🌱 סלט אקפולקו - 38.0 ₪\n"
     ]
    },
    {
     "data": {
      "text/html": [
       "<img src=\"https://wolt-menu-images-cdn.wolt.com/menu-images/4bed6d6a-c8cc-11e9-a203-0a586467cb90_Taqueria_13.jpeg\" width=\"400\" height=\"400\"/>"
      ],
      "text/plain": [
       "<IPython.core.display.Image object>"
      ]
     },
     "metadata": {},
     "output_type": "display_data"
    },
    {
     "name": "stdout",
     "output_type": "stream",
     "text": [
      "vegetarian: ✅ GF: ❌ spicy: ❌ alcohol_percentage: ❌\n",
      "--------------------------------------------------\n",
      "--------------------------------------------------\n",
      "🌶 ‫תוספת קרניטס (125 מ\"ל) - 21.0 ₪\n"
     ]
    },
    {
     "data": {
      "text/html": [
       "<img src=\"https://wolt-menu-images-cdn.wolt.com/menu-images/130e5b4e-07a2-11e9-a646-0a586460d733_______.jpeg\" width=\"400\" height=\"400\"/>"
      ],
      "text/plain": [
       "<IPython.core.display.Image object>"
      ]
     },
     "metadata": {},
     "output_type": "display_data"
    },
    {
     "name": "stdout",
     "output_type": "stream",
     "text": [
      "vegetarian: ❌ GF: ❌ spicy: ✅ alcohol_percentage: ❌\n",
      "--------------------------------------------------\n",
      "--------------------------------------------------\n",
      "🌱 סלט אקפולקו - 38.0 ₪\n"
     ]
    },
    {
     "data": {
      "text/html": [
       "<img src=\"https://wolt-menu-images-cdn.wolt.com/menu-images/4bed6d6a-c8cc-11e9-a203-0a586467cb90_Taqueria_13.jpeg\" width=\"400\" height=\"400\"/>"
      ],
      "text/plain": [
       "<IPython.core.display.Image object>"
      ]
     },
     "metadata": {},
     "output_type": "display_data"
    },
    {
     "name": "stdout",
     "output_type": "stream",
     "text": [
      "vegetarian: ✅ GF: ❌ spicy: ❌ alcohol_percentage: ❌\n",
      "--------------------------------------------------\n",
      "--------------------------------------------------\n",
      "🌱 סלט אקפולקו - 38.0 ₪\n"
     ]
    },
    {
     "data": {
      "text/html": [
       "<img src=\"https://wolt-menu-images-cdn.wolt.com/menu-images/4bed6d6a-c8cc-11e9-a203-0a586467cb90_Taqueria_13.jpeg\" width=\"400\" height=\"400\"/>"
      ],
      "text/plain": [
       "<IPython.core.display.Image object>"
      ]
     },
     "metadata": {},
     "output_type": "display_data"
    },
    {
     "name": "stdout",
     "output_type": "stream",
     "text": [
      "vegetarian: ✅ GF: ❌ spicy: ❌ alcohol_percentage: ❌\n",
      "--------------------------------------------------\n",
      "\n",
      "Evolution Plot:\n"
     ]
    },
    {
     "data": {
      "text/plain": [
       "<AxesSubplot:>"
      ]
     },
     "execution_count": 9,
     "metadata": {},
     "output_type": "execute_result"
    },
    {
     "data": {
      "image/png": "[encoded data removed]",
      "text/plain": [
       "<Figure size 640x480 with 1 Axes>"
      ]
     },
     "metadata": {},
     "output_type": "display_data"
    }
   ],
   "source": [
    "best_fitness = -np.inf\n",
    "best_solution = np.nan\n",
    "best_res = []\n",
    "best_database = np.nan\n",
    "\n",
    "combinations = 0\n",
    "for _, df in total_df.groupby('rest_name'):\n",
    "    combinations += (df.shape[0] ** user_input['people'])\n",
    "\n",
    "print(f'------- Searching space of size {combinations} -------\\n')\n",
    "\n",
    "for restaurant, database in list(total_df.groupby('rest_name')):\n",
    "    print(f' - Testing: {restaurant} combinations \\n\\t{database.shape[0]} possible dishes\\n')\n",
    "    database.reset_index(inplace=True, drop=True)\n",
    "    res = []\n",
    "\n",
    "    # choose run params:\n",
    "    ga_instance = pygad.GA(num_generations         = 1000,\n",
    "                           num_parents_mating      = 20,\n",
    "                           sol_per_pop             = 30,\n",
    "                           num_genes               = user_input['people'],\n",
    "\n",
    "                           init_range_low          = 0,\n",
    "                           init_range_high         = len(database),\n",
    "\n",
    "                           random_mutation_min_val = 0,\n",
    "                           random_mutation_max_val = len(database),\n",
    "\n",
    "                           mutation_by_replacement = True,\n",
    "                           mutation_num_genes      = 1,\n",
    "                           mutation_probability    = 0.05,\n",
    "\n",
    "                           gene_type               = int,\n",
    "                           fitness_func            = fitness_function,\n",
    "                          )\n",
    "\n",
    "    # run:\n",
    "    ga_instance.run()\n",
    "\n",
    "    # print solution:\n",
    "    solution, fitness, i = ga_instance.best_solution()\n",
    "    \n",
    "    if fitness > best_fitness:\n",
    "        best_fitness = fitness\n",
    "        best_res = res.copy()\n",
    "        best_solution = solution\n",
    "        best_database = database.copy()\n",
    "    \n",
    "best_solution = [best_database.iloc[i] for i in best_solution]\n",
    "\n",
    "print(f'\\n----------------- Best solution ------------------\\n')\n",
    "print(f'Fitness:          {best_fitness}')\n",
    "print(f'Hard constraints: {\"🏆\" if best_fitness > 0.5 else \"🛑\"}')\n",
    "print(f'Total price:      {sum([dish[\"price\"] for dish in best_solution])} ₪ (limit was {user_input[\"price\"]} ₪)')\n",
    "print()\n",
    "[print_dish(dish) for dish in best_solution]\n",
    "\n",
    "print()\n",
    "print('Evolution Plot:')\n",
    "pd.Series(best_res).plot()\n",
    "pd.Series(best_res).rolling(window=100).mean().plot()\n",
    "pd.Series(np.ones(len(best_res)) * 0.5).plot(style='--')\n"
   ]
  },
  {
   "cell_type": "code",
   "execution_count": null,
   "id": "240253da",
   "metadata": {},
   "outputs": [],
   "source": []
  },
  {
   "cell_type": "code",
   "execution_count": null,
   "id": "9dad8215",
   "metadata": {},
   "outputs": [],
   "source": []
  }
 ],
 "metadata": {
  "kernelspec": {
   "display_name": "Python 3 (ipykernel)",
   "language": "python",
   "name": "python3"
  },
  "language_info": {
   "codemirror_mode": {
    "name": "ipython",
    "version": 3
   },
   "file_extension": ".py",
   "mimetype": "text/x-python",
   "name": "python",
   "nbconvert_exporter": "python",
   "pygments_lexer": "ipython3",
   "version": "3.9.13"
  },
  "varInspector": {
   "cols": {
    "lenName": 16,
    "lenType": 16,
    "lenVar": 40
   },
   "kernels_config": {
    "python": {
     "delete_cmd_postfix": "",
     "delete_cmd_prefix": "del ",
     "library": "var_list.py",
     "varRefreshCmd": "print(var_dic_list())"
    },
    "r": {
     "delete_cmd_postfix": ") ",
     "delete_cmd_prefix": "rm(",
     "library": "var_list.r",
     "varRefreshCmd": "cat(var_dic_list()) "
    }
   },
   "types_to_exclude": [
    "module",
    "function",
    "builtin_function_or_method",
    "instance",
    "_Feature"
   ],
   "window_display": false
  }
 },
 "nbformat": 4,
 "nbformat_minor": 5
}
