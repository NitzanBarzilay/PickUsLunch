{
 "cells": [
  {
   "cell_type": "markdown",
   "id": "0cc0b675",
   "metadata": {},
   "source": [
    "# POC for Genetic Algorithm WOLT"
   ]
  },
  {
   "cell_type": "markdown",
   "id": "d65f96d3",
   "metadata": {},
   "source": [
    "### Imports"
   ]
  },
  {
   "cell_type": "code",
   "execution_count": null,
   "outputs": [],
   "source": [
    "import os\n",
    "import pygad\n",
    "import numpy as np\n",
    "import pandas as pd\n",
    "from IPython.display import Image, display"
   ],
   "metadata": {
    "collapsed": false,
    "pycharm": {
     "name": "#%%\n"
    }
   }
  },
  {
   "cell_type": "code",
   "execution_count": null,
   "outputs": [],
   "source": [
    "from main import get_diners_constraints\n",
    "from LossFunc import loss, MUST, MUST_NOT, HUNGRY_MINUTES"
   ],
   "metadata": {
    "collapsed": false,
    "pycharm": {
     "name": "#%%\n"
    }
   }
  },
  {
   "cell_type": "code",
   "execution_count": null,
   "outputs": [],
   "source": [
    "PEOPLES = 3"
   ],
   "metadata": {
    "collapsed": false,
    "pycharm": {
     "name": "#%%\n"
    }
   }
  },
  {
   "cell_type": "code",
   "execution_count": null,
   "outputs": [],
   "source": [
    "KOSER_IDX        = 0\n",
    "VEGETARIAN_IDX   = 1\n",
    "GLUTEN_FREE_IDX  = 2\n",
    "ALCOHOL_FREE_IDX = 3\n",
    "SPICINESS_IDX    = 4\n",
    "PRICE_IDX        = 5\n",
    "MIN_RATINGV      = 6\n",
    "HUNGRY_IDX       = 7\n",
    "CUISINES_IDX     = 8\n",
    "WEEKDAY_IDX      = 9"
   ],
   "metadata": {
    "collapsed": false,
    "pycharm": {
     "name": "#%%\n"
    }
   }
  },
  {
   "cell_type": "code",
   "execution_count": null,
   "outputs": [],
   "source": [
    "CONST_DIR_PATH = './diners_input_constarints/'\n",
    "\n",
    "NO_IMAGE_URL = 'https://upload.wikimedia.org/wikipedia/commons/thumb/a/ac/No_image_available.svg/1024px-No_image_available.svg.png'"
   ],
   "metadata": {
    "collapsed": false,
    "pycharm": {
     "name": "#%%\n"
    }
   }
  },
  {
   "cell_type": "code",
   "execution_count": null,
   "outputs": [],
   "source": [
    "# load database:\n",
    "total_df = pd.read_csv('./data/csv_wolt_menus_21-8-22.csv')\n",
    "rest_df = pd.read_csv('./data/csv_wolt_restaurants_21-8-22.csv').set_index('name')\n",
    "groups = list(total_df.groupby('rest_name'))[:10]"
   ],
   "metadata": {
    "collapsed": false,
    "pycharm": {
     "name": "#%%\n"
    }
   }
  },
  {
   "cell_type": "code",
   "execution_count": null,
   "outputs": [],
   "source": [
    "constraints = [get_diners_constraints(os.path.join(CONST_DIR_PATH, file)) for file in os.listdir(CONST_DIR_PATH)]"
   ],
   "metadata": {
    "collapsed": false,
    "pycharm": {
     "name": "#%%\n"
    }
   }
  },
  {
   "cell_type": "markdown",
   "source": [
    "### helper functions:"
   ],
   "metadata": {
    "collapsed": false,
    "pycharm": {
     "name": "#%% md\n"
    }
   }
  },
  {
   "cell_type": "code",
   "execution_count": null,
   "outputs": [],
   "source": [
    "def print_dish(solution, constraint, i):\n",
    "    dish = solution[i]\n",
    "    \n",
    "    print('-' * 50)\n",
    "    print(f'{dish[\"name\"]} - {dish[\"price\"]} ₪')\n",
    "    \n",
    "    if type(dish[\"image\"]) == str:\n",
    "        display(Image(url=dish[\"image\"], width=400, height=400))\n",
    "    else:\n",
    "        display(Image(url=NO_IMAGE_URL, width=200, height=200))\n",
    "    \n",
    "    \n",
    "#     rest_const, vegetarian_const, \\\n",
    "#     GF_const, alcohol_percentage_const, \\\n",
    "#     spicy_const, price_const, _ = user_inputs_to_loss_function_inputs(constraint[0], # diner1_inputs,\n",
    "#                                                                       constraint[1], # diner2_inputs,\n",
    "#                                                                       constraint[2], # diner3_inputs,\n",
    "#                                                                       rest_df.loc[restaurant],\n",
    "#                                                                       solution[0],   # meal1_df,\n",
    "#                                                                       solution[0],   # meal2_df,\n",
    "#                                                                       solution[0])  # meal3_df\n",
    "    \n",
    "\n",
    "    \n",
    "#     print(f'vegetarian: {\"✅\" if  vegetarian_const[i] else f\"❌\"}', end=' ')\n",
    "#     print(f'GF: {f\"✅\" if GF_const[i] else f\"❌\"}', end=' ')\n",
    "#     print(f'spicy: {f\"✅\" if spicy_const[i] else f\"❌\"}', end=' ')\n",
    "#     print(f'alcohol: {f\"✅\" if alcohol_percentage_const[i] else f\"❌\"}')\n",
    "    \n",
    "    \n",
    "    print(f'vegetarian: {\"✅\" if dish[\"vegetarian\"] == constraint[i][VEGETARIAN_IDX] else f\"❌\"}', end=' ')\n",
    "#     print(f\"({vegetarian_const[i]}/{int(dish['vegetarian'])})\", end=' ')\n",
    "\n",
    "    print(f'GF: {f\"✅\" if dish[\"GF\"] == constraint[i][GLUTEN_FREE_IDX] else f\"❌\"}', end=' ')\n",
    "#     print(f\"({GF_const[i]}/{int(dish['GF'])})\", end=' ')\n",
    "    \n",
    "    print(f'spicy: {f\"✅\" if dish[\"spicy\"] == constraint[i][SPICINESS_IDX] else f\"❌\"}', end=' ')\n",
    "#     print(f\"({spicy_const[i]}/{int(dish['spicy'])})\", end=' ')\n",
    "    \n",
    "    print(f'alcohol: {f\"✅\" if (dish[\"alcohol_percentage\"] <= 0) == constraint[i][ALCOHOL_FREE_IDX] else f\"❌\"}')\n",
    "#     print(f\"({alcohol_percentage_const[i]}/{int(dish['alcohol_percentage'])})\")\n",
    "\n",
    "    print('-' * 50)\n"
   ],
   "metadata": {
    "collapsed": false,
    "pycharm": {
     "name": "#%%\n"
    }
   }
  },
  {
   "cell_type": "code",
   "execution_count": null,
   "outputs": [],
   "source": [
    "def user_inputs_to_loss_function_inputs(diner1_inputs, diner2_inputs, diner3_inputs, rest, meal1_df, meal2_df, meal3_df):\n",
    "    \"\"\"\n",
    "    Converts the user inputs to the loss function inputs.\n",
    "    :params diner1_inputs, diner2_inputs, diner3_inputs: user input in format of: [0 - kosher, 1 - vegetarian,\n",
    "    2 - gluten free, 3 - alcohol free, 4 - prefer spicy, 5 - max price, 6 - min rating, 7 - hunger level, 8 - desired cuisines, 9 - day]\n",
    "    :param rest: df with 1 row containing the restaurant\n",
    "    :param meal1_df: df with 1 row containing 1st meal\n",
    "    :param meal2_df: df with 1 row containing 2nd meal\n",
    "    :param meal3_df: df with 1 row containing 3rd meal\n",
    "    :return: a list of inputs for the loss function - [O, M, K, DT, D, RD, R, C, V1, V2, V3, G1, G2, G3, A1, A2, A3, S1, S2, S3, PH1, PH2, PH3, PS1, PS2, PS3]\n",
    "    \"\"\"\n",
    "    kosher1, vegetarian1, gluten_free1, alcohol_free1, spicy1, max_price1, rating1, hungry1, cuisines1, weekday = diner1_inputs\n",
    "    kosher2, vegetarian2, gluten_free2, alcohol_free2, spicy2, max_price2, rating2, hungry2, cuisines2, weekday = diner2_inputs\n",
    "    kosher3, vegetarian3, gluten_free3, alcohol_free3, spicy3, max_price3, rating3, hungry3, cuisines3, weekday = diner3_inputs\n",
    "\n",
    "    # Group constraints:\n",
    "    diners_kosher = False if (kosher1 == 0 and kosher2 == 0 and kosher3 == 0) else True\n",
    "    diners_avg_rating = np.mean((rating1, rating2, rating3))\n",
    "    hungry_diners = True if np.sum((hungry1, hungry2, hungry3)) >= 2 else False\n",
    "    rest_cuisines = rest['food categories'].split('---')\n",
    "    diner1_cui = 1 if len([meal for meal in cuisines1 if meal in rest_cuisines]) > 0 else 0\n",
    "    diner2_cui = 1 if len([meal for meal in cuisines2 if meal in rest_cuisines]) > 0 else 0\n",
    "    diner3_cui = 1 if len([meal for meal in cuisines3 if meal in rest_cuisines]) > 0 else 0\n",
    "\n",
    "    O = 1 if weekday in rest['opening days'] else 0\n",
    "    M = 1 if ((meal1_df['price'] + meal2_df['price'] + meal3_df['price']) >= 100) else 0  # TODO replace with order min\n",
    "    K = 0 if diners_kosher and not rest['kosher'] else 1\n",
    "    DT = rest['delivery estimation [minutes]'] + rest['prep estimation [minutes]']\n",
    "    D = 0 if (hungry_diners and rest['delivery estimation [minutes]'] + rest['prep estimation [minutes]'] >= HUNGRY_MINUTES) else 1\n",
    "    RD = rest['rating'] - diners_avg_rating\n",
    "    R = 1 if diners_avg_rating <= rest['rating'] else 0\n",
    "    C = diner1_cui + diner2_cui + diner3_cui\n",
    "\n",
    "    # individual constraints:\n",
    "    diner_delivery_cost = + rest['delivery price'] / 3\n",
    "    price1, price2, price3 = meal1_df['price'], meal2_df['price'], meal3_df['price']\n",
    "\n",
    "    V1 = 0 if vegetarian1 == MUST and not meal1_df['vegetarian'] else 1\n",
    "    V2 = 0 if vegetarian2 == MUST and not meal2_df['vegetarian'] else 1\n",
    "    V3 = 0 if vegetarian3 == MUST and not meal3_df['vegetarian'] else 1\n",
    "    \n",
    "    G1 = 0 if gluten_free1 == MUST and not meal1_df['GF'] else 1\n",
    "    G2 = 0 if gluten_free2 == MUST and not meal2_df['GF'] else 1\n",
    "    G3 = 0 if gluten_free3 == MUST and not meal3_df['GF'] else 1\n",
    "    \n",
    "    A1 = 0 if alcohol_free1 == MUST and meal1_df['alcohol_percentage'] > 0 else 1\n",
    "    A2 = 0 if alcohol_free2 == MUST and meal2_df['alcohol_percentage'] > 0 else 1\n",
    "    A3 = 0 if alcohol_free3 == MUST and meal3_df['alcohol_percentage'] > 0 else 1\n",
    "    \n",
    "    spicy_meal1, spicy_meal2, spicy_meal3 = meal1_df['spicy'], meal2_df['spicy'], meal3_df['spicy']\n",
    "    \n",
    "    S1 = 0 if (spicy1 == MUST and not spicy_meal1) or (spicy1 == MUST_NOT and spicy_meal1) else 1\n",
    "    S2 = 0 if (spicy2 == MUST and not spicy_meal2) or (spicy2 == MUST_NOT and spicy_meal2) else 1\n",
    "    S3 = 0 if (spicy3 == MUST and not spicy_meal3) or (spicy3 == MUST_NOT and spicy_meal3) else 1\n",
    "    \n",
    "    PH1 = 1 if price1 + diner_delivery_cost <= max_price1 else 0\n",
    "    PH2 = 1 if price2 + diner_delivery_cost <= max_price2 else 0\n",
    "    PH3 = 1 if price3 + diner_delivery_cost <= max_price3 else 0\n",
    "    \n",
    "    PS1 = max_price1 - price1 if PH1 == 1 else 0\n",
    "    PS2 = max_price2 - price2 if PH2 == 1 else 0\n",
    "    PS3 = max_price3 - price3 if PH3 == 1 else 0\n",
    "\n",
    "    return ([O, M, K, DT, D, RD, R, C], # rest\n",
    "            [V1, V2, V3],               # vegetarian\n",
    "            [G1, G2, G3],               # gluten\n",
    "            [A1, A2, A3],               # alcohol\n",
    "            [S1, S2, S3],               # spicy\n",
    "            [PH1, PH2, PH3],            # price hard\n",
    "            [PS1, PS2, PS3])            # price soft\n"
   ],
   "metadata": {
    "collapsed": false,
    "pycharm": {
     "name": "#%%\n"
    }
   }
  },
  {
   "cell_type": "code",
   "execution_count": null,
   "outputs": [],
   "source": [
    "const_labels = ['kosher', 'vegetarian', 'gluten_free', 'alcohol_free',\n",
    "                'spiciness', 'max_price', 'min_rating', 'hungry', 'weekday']\n",
    "\n",
    "def print_constraints(const):\n",
    "    [print(f'{c}{\" \" * (13 - len(c))}: {v}') for (c, v) in zip(const_labels, const)]"
   ],
   "metadata": {
    "collapsed": false,
    "pycharm": {
     "name": "#%%\n"
    }
   }
  },
  {
   "cell_type": "markdown",
   "source": [
    "### Loss (fitness) function:"
   ],
   "metadata": {
    "collapsed": false,
    "pycharm": {
     "name": "#%% md\n"
    }
   }
  },
  {
   "cell_type": "code",
   "execution_count": null,
   "outputs": [],
   "source": [
    "def fitness_function(solution, solution_idx):\n",
    "    solution = [database.iloc[i] for i in solution]\n",
    "    people_num = len(solution)\n",
    "\n",
    "#     rest_const, vegetarian_const, \\\n",
    "#     GF_const, alcohol_percentage_const, \\\n",
    "#     spicy_const, price_const, _ = user_inputs_to_loss_function_inputs(constraint[0], # diner1_inputs,\n",
    "#                                                                       constraint[1], # diner2_inputs,\n",
    "#                                                                       constraint[2], # diner3_inputs,\n",
    "#                                                                       rest_df.loc[restaurant],\n",
    "#                                                                       solution[0],   # meal1_df,\n",
    "#                                                                       solution[1],   # meal2_df,\n",
    "#                                                                       solution[2])  # meal3_df\n",
    "    \n",
    "    \n",
    "    \n",
    "    \n",
    "    \n",
    "    price_const = [dish.price <= const[PRICE_IDX] for (dish, const) in zip(solution, constraint)] \n",
    "    \n",
    "    vegetarian_const = [int(dish.vegetarian) == int(const[VEGETARIAN_IDX]) for \\\n",
    "                        (dish, const) in zip(solution, constraint)]    \n",
    "    \n",
    "    GF_const         = [int(dish.GF) == int(const[GLUTEN_FREE_IDX]) for \\\n",
    "                        (dish, const) in zip(solution, constraint)]    \n",
    "    \n",
    "    spicy_const = [(0 if (const[SPICINESS_IDX] == MUST and not dish.spicy) or  \\\n",
    "                   (const[SPICINESS_IDX] == MUST_NOT and dish.spicy) else 1) for \\\n",
    "                   (dish, const) in zip(solution, constraint)]\n",
    "    \n",
    "#     import ipdb; ipdb.set_trace()\n",
    "    alcohol_percentage_const = [(dish.alcohol_percentage <= 0) == const[ALCOHOL_FREE_IDX] for (dish, const) in zip(solution, constraint)]  \n",
    "    \n",
    "    \n",
    "#     print(f'price_const   {price_const}')\n",
    "#     print(f'veg_const     {vegetarian_const}')\n",
    "#     print(f'GF_const      {GF_const}')\n",
    "#     print(f'spicy_const   {spicy_const}')\n",
    "#     print(f'alcohol_const {alcohol_percentage_const}')\n",
    "\n",
    "\n",
    "    hard_const = all([all(price_const),\n",
    "                      all(vegetarian_const),\n",
    "                      all(GF_const),\n",
    "                      all(spicy_const),\n",
    "                      all(alcohol_percentage_const)])\n",
    "    \n",
    "    soft_const = np.mean([sum(price_const)              / people_num,\n",
    "                          sum(vegetarian_const)         / people_num, \n",
    "                          sum(GF_const)                 / people_num,\n",
    "                          sum(spicy_const)              / people_num,\n",
    "                          sum(alcohol_percentage_const) / people_num,\n",
    "                         ])\n",
    "    fitness = np.mean([int(hard_const), soft_const])\n",
    "    res.append(fitness)\n",
    "\n",
    "    return fitness"
   ],
   "metadata": {
    "collapsed": false,
    "pycharm": {
     "name": "#%%\n"
    }
   }
  },
  {
   "cell_type": "markdown",
   "source": [
    "# Algorithm run:"
   ],
   "metadata": {
    "collapsed": false,
    "pycharm": {
     "name": "#%% md\n"
    }
   }
  },
  {
   "cell_type": "code",
   "execution_count": null,
   "outputs": [],
   "source": [
    "res = []\n",
    "\n",
    "combinations = 0\n",
    "for _, df in total_df.groupby('rest_name'):\n",
    "    combinations += (df.shape[0] ** PEOPLES)\n",
    "\n",
    "print(f'------- Searching space of size {combinations} -------\\n')\n",
    "for constraint in constraints:\n",
    "    best_res = []\n",
    "    best_fitness  = -np.inf\n",
    "    best_solution = np.nan\n",
    "    best_database = np.nan\n",
    "    print('=' * 110, '\\n')\n",
    "    print('Running for constraints:')\n",
    "    for meal in constraint:\n",
    "        print_constraints(meal)\n",
    "        print('-' * 110)\n",
    "        \n",
    "    print('\\n', '=' * 110)\n",
    "\n",
    "\n",
    "    for restaurant, database in groups:\n",
    "        print(f' - Testing: {restaurant} combinations \\n\\t{database.shape[0]} possible dishes\\n')\n",
    "        database.reset_index(inplace=True, drop=True)\n",
    "        res = []\n",
    "\n",
    "        # choose run params:\n",
    "        ga_instance = pygad.GA(num_generations         = 1024,\n",
    "                               num_parents_mating      = 16,\n",
    "                               sol_per_pop             = 32,\n",
    "                               num_genes               = PEOPLES,\n",
    "\n",
    "                               init_range_low          = 0,\n",
    "                               init_range_high         = len(database),\n",
    "\n",
    "                               random_mutation_min_val = 0,\n",
    "                               random_mutation_max_val = len(database),\n",
    "\n",
    "                               mutation_by_replacement = True,\n",
    "                               mutation_num_genes      = 1,\n",
    "                               mutation_probability    = 0.3,\n",
    "\n",
    "                               gene_type               = int,\n",
    "                               fitness_func            = fitness_function,\n",
    "                               \n",
    "                               on_generation=lambda t: print('.', end='')\n",
    "                              )\n",
    "\n",
    "        # run:\n",
    "        ga_instance.run()\n",
    "\n",
    "        # print solution:\n",
    "        solution, fitness, i = ga_instance.best_solution()\n",
    "\n",
    "        if fitness > best_fitness:\n",
    "            best_fitness = fitness\n",
    "            best_res = res.copy()\n",
    "            best_solution = solution\n",
    "            best_database = database.copy()\n",
    "#         print(best_fitness)\n",
    "    \n",
    "    best_solution = [best_database.iloc[i] for i in best_solution]\n",
    "\n",
    "    print(f'\\n----------------- Best solution ------------------\\n')\n",
    "    print(f'Fitness:          {best_fitness}')\n",
    "    print(f'Hard constraints: {\"🏆\" if best_fitness > 0.5 else \"🛑\"}')\n",
    "    print(f'Total price:      {sum([dish[\"price\"] for dish in best_solution])}') # ₪ (limit was {user_input[\"price\"]} ₪)')\n",
    "    print()\n",
    "    [print_dish(best_solution, constraint, i) for i in range(len(best_solution))]\n",
    "\n",
    "    print()\n",
    "    print('Evolution Plot:')\n",
    "    pd.Series(best_res).plot()\n",
    "    pd.Series(best_res).rolling(window=100).mean().plot()\n",
    "    pd.Series(np.ones(len(best_res)) * 0.5).plot(style='--')\n"
   ],
   "metadata": {
    "collapsed": false,
    "pycharm": {
     "name": "#%%\n"
    }
   }
  },
  {
   "cell_type": "code",
   "execution_count": null,
   "outputs": [],
   "source": [],
   "metadata": {
    "collapsed": false,
    "pycharm": {
     "name": "#%%\n"
    }
   }
  }
 ],
 "metadata": {
  "kernelspec": {
   "display_name": "Python 3 (ipykernel)",
   "language": "python",
   "name": "python3"
  },
  "language_info": {
   "codemirror_mode": {
    "name": "ipython",
    "version": 3
   },
   "file_extension": ".py",
   "mimetype": "text/x-python",
   "name": "python",
   "nbconvert_exporter": "python",
   "pygments_lexer": "ipython3",
   "version": "3.9.13"
  },
  "varInspector": {
   "cols": {
    "lenName": 16,
    "lenType": 16,
    "lenVar": 40
   },
   "kernels_config": {
    "python": {
     "delete_cmd_postfix": "",
     "delete_cmd_prefix": "del ",
     "library": "var_list.py",
     "varRefreshCmd": "print(var_dic_list())"
    },
    "r": {
     "delete_cmd_postfix": ") ",
     "delete_cmd_prefix": "rm(",
     "library": "var_list.r",
     "varRefreshCmd": "cat(var_dic_list()) "
    }
   },
   "types_to_exclude": [
    "module",
    "function",
    "builtin_function_or_method",
    "instance",
    "_Feature"
   ],
   "window_display": false
  }
 },
 "nbformat": 4,
 "nbformat_minor": 5
}